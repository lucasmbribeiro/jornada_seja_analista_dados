{
 "cells": [
  {
   "cell_type": "markdown",
   "metadata": {},
   "source": [
    "# __Operadores de Repetição__\n",
    "\n",
    "---"
   ]
  },
  {
   "cell_type": "markdown",
   "metadata": {},
   "source": [
    "## __O que são?__\n",
    "* São operadores que repetem um bloco de código por um número de vezes.\n",
    "* Pode ser executado por um número explícito de vezes ou ser executado enquanto uma condição seja verdadeira.\n",
    "\n",
    "## __Pra que serve?__\n",
    "* Ajuda a encapsular blocos de códigos que precisam ser executados mais de uma vez. \n",
    "* Exemplo: Cálculo de média de um aluno, você pode adicionar isso em um laço e calcular de todos os alunos da turma.\n",
    "\n",
    "---"
   ]
  },
  {
   "cell_type": "markdown",
   "metadata": {},
   "source": [
    "## __Quais são os operadores de repetição?__\n",
    "\n",
    "Temos dois operadores: __for__ e __while__.\n",
    "\n",
    "__For:__ É utilizado para executar um número definido de vezes.\n",
    "\n",
    "__While:__ Executa enquanto uma condição for verdadeira.\n",
    "\n",
    "---"
   ]
  },
  {
   "cell_type": "markdown",
   "metadata": {},
   "source": [
    "## __For__\n",
    "\n",
    "O operador __for__ é indicado quando queremos iterar sobre uma sequência de valores (__lista__) ou quando sabemos quantas vezes nosso laço precisa ser executado!"
   ]
  },
  {
   "cell_type": "code",
   "execution_count": null,
   "metadata": {},
   "outputs": [],
   "source": []
  },
  {
   "cell_type": "code",
   "execution_count": null,
   "metadata": {},
   "outputs": [],
   "source": []
  },
  {
   "cell_type": "code",
   "execution_count": null,
   "metadata": {},
   "outputs": [],
   "source": []
  },
  {
   "cell_type": "code",
   "execution_count": null,
   "metadata": {},
   "outputs": [],
   "source": []
  },
  {
   "cell_type": "markdown",
   "metadata": {},
   "source": [
    "<br>\n",
    "\n",
    "---\n",
    "\n",
    "O Python tem duas funções nativas que são úteis para utilizarmos com o for.\n",
    "\n",
    "São elas, ```range()``` e ```enumerate()```\n",
    "\n",
    "Vamos entender um pouco das duas funções.\n",
    "\n",
    "---\n",
    "\n",
    "<br>"
   ]
  },
  {
   "cell_type": "markdown",
   "metadata": {},
   "source": [
    "## __ENUMERATE__\n",
    "\n",
    "* De uma forma simples, a função enumerate faz uma enumeração de uma sequência de dados.\n",
    "* Por default a contagem começa em 0.\n",
    "\n",
    "Trazendo um exemplo: <br>\n",
    "Imagina que queremos entrar em uma loja, e a capacidade da loja é de 10 pessoas. <br>\n",
    "Na porta temos segurança contando quantas pessoas entram ...\n",
    "\n",
    "1º Pessoa --> Segurança retorna == 0 <br>\n",
    "2º Pessoa --> Segurança retorna == 1 <br>\n",
    "3º Pessoa --> Segurança retorna == 2\n",
    "\n",
    "__Essa é a função ```enumerate``` trabalhando__\n",
    "\n",
    "Para mais detalhes: https://docs.python.org/3/library/functions.html#enumerate"
   ]
  },
  {
   "cell_type": "code",
   "execution_count": null,
   "metadata": {},
   "outputs": [],
   "source": []
  },
  {
   "cell_type": "code",
   "execution_count": null,
   "metadata": {},
   "outputs": [],
   "source": [
    "enumerate()\n",
    "\n",
    "# Espera um objeto do tipo iteravél\n",
    "# retorna uma tupla\n",
    "# por default começa em 0"
   ]
  },
  {
   "cell_type": "code",
   "execution_count": null,
   "metadata": {},
   "outputs": [],
   "source": []
  },
  {
   "cell_type": "markdown",
   "metadata": {},
   "source": [
    "## __RANGE__\n",
    "\n",
    "A função range retorna um range de valores definido. A função tem três propriedades:\n",
    "* __start__ --> Valor que deseja iniciar a geração do range.\n",
    "* __stop__ --> Valor de parada do grande. Esse valor indica parada (não chega nesse valor).\n",
    "* __step__ --> Valor de pulos, gero gerar de 5 em 5 ...\n",
    "\n",
    "Vamos exemplificar com os códigos ...\n",
    "\n",
    "Para mais detalhes: https://docs.python.org/3/library/stdtypes.html#typesseq-range"
   ]
  },
  {
   "cell_type": "markdown",
   "metadata": {},
   "source": [
    "__Fornecendo apenas um parâmetro__\n",
    "\n",
    "Nesse caso fica entendido como __stop__."
   ]
  },
  {
   "cell_type": "code",
   "execution_count": null,
   "metadata": {},
   "outputs": [],
   "source": [
    "range(3)\n",
    "\n",
    "#1 = 0\n",
    "#2 = 1\n",
    "#3 = 2"
   ]
  },
  {
   "cell_type": "code",
   "execution_count": null,
   "metadata": {},
   "outputs": [],
   "source": []
  },
  {
   "cell_type": "markdown",
   "metadata": {},
   "source": [
    "__Fornecendo dois parâmetros__\n",
    "\n",
    "Nesse caso o primeiro é o __start__ , segundo é o __stop__"
   ]
  },
  {
   "cell_type": "code",
   "execution_count": null,
   "metadata": {},
   "outputs": [],
   "source": []
  },
  {
   "cell_type": "code",
   "execution_count": null,
   "metadata": {},
   "outputs": [],
   "source": []
  },
  {
   "cell_type": "code",
   "execution_count": null,
   "metadata": {},
   "outputs": [],
   "source": []
  },
  {
   "cell_type": "markdown",
   "metadata": {},
   "source": [
    "__Fornecendo os três parâmetros disponíveis__"
   ]
  },
  {
   "cell_type": "code",
   "execution_count": null,
   "metadata": {},
   "outputs": [],
   "source": []
  },
  {
   "cell_type": "code",
   "execution_count": null,
   "metadata": {},
   "outputs": [],
   "source": []
  },
  {
   "cell_type": "code",
   "execution_count": null,
   "metadata": {},
   "outputs": [],
   "source": []
  },
  {
   "cell_type": "markdown",
   "metadata": {},
   "source": [
    "---\n",
    "\n",
    "## __WHILE__\n",
    "\n",
    "O operador while é indicado quando queremos repetir o bloco de código enquanto uma condição for verdadeira!\n",
    "\n",
    "Diferente de for, o __stop do laço é quando a condição deixa de ser verdadeira.__\n",
    "\n",
    "__A LEITURA DO OPERADOR É: FAÇA ENQUANTO ESSA CONDIÇÃO SEJA VERDADEIRA__"
   ]
  },
  {
   "cell_type": "code",
   "execution_count": null,
   "metadata": {},
   "outputs": [],
   "source": []
  },
  {
   "cell_type": "code",
   "execution_count": null,
   "metadata": {},
   "outputs": [],
   "source": []
  },
  {
   "cell_type": "code",
   "execution_count": null,
   "metadata": {},
   "outputs": [],
   "source": []
  },
  {
   "cell_type": "markdown",
   "metadata": {},
   "source": [
    "\n",
    "---\n",
    "\n",
    "## Links Úteis\n",
    "\n",
    "* https://wiki.python.org/moin/ForLoop\n",
    "* https://wiki.python.org/moin/WhileLoop"
   ]
  }
 ],
 "metadata": {
  "kernelspec": {
   "display_name": "Python 3",
   "language": "python",
   "name": "python3"
  },
  "language_info": {
   "codemirror_mode": {
    "name": "ipython",
    "version": 3
   },
   "file_extension": ".py",
   "mimetype": "text/x-python",
   "name": "python",
   "nbconvert_exporter": "python",
   "pygments_lexer": "ipython3",
   "version": "3.8.5"
  }
 },
 "nbformat": 4,
 "nbformat_minor": 4
}
