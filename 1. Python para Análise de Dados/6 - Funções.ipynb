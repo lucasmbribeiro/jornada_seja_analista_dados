{
 "cells": [
  {
   "cell_type": "markdown",
   "metadata": {},
   "source": [
    "# __Funções__\n",
    "\n",
    "---"
   ]
  },
  {
   "cell_type": "markdown",
   "metadata": {},
   "source": [
    "## __O que é uma função?__\n",
    "\n",
    "* Função é um conjunto de código encapsulado, pré compilado pela linguagem, mas só é executado quando invocado (chamado).\n",
    "\n",
    "## __Pra que serve uma função?__\n",
    "* Tem a usabilidade de encapsular blocos de código para evitar a repetição do mesmo.\n",
    "* Traz maior legibilidade ao código.\n",
    "* Torna mais fácil a manutenção, pois só temos aquele bloco em um único local do código.\n",
    "\n",
    "__Exemplos:__\n",
    "1. __Conexão com o banco de dados:__ Ao invés de sempre escrever o código de conexão com o banco de dados, temos isso encapsulado em uma função e, quando necessário, chamamos essa função para abrir conexão.\n",
    "2. __Cálculos:__ Vamos supor que precisamos criar regras para calcular um salário, ao invés disso estar repetido no código, temos uma função, que calcula o salário líquido.\n",
    "\n",
    "__Ganhos:__\n",
    "* Fácil manutenção, quando ocorrer erros ou atualizações de regras.\n",
    "* Menos escrita de código.\n",
    "* Menos tendência a erro!\n",
    "\n",
    "---\n",
    "\n",
    "## __Características__\n",
    "\n",
    "* __Pode receber ou não parâmetros__. Isso quer dizer que podemos fornecer valores para que a função seja executada e, tem casos que não é necessário. Tudo vai da sua necessidade.\n",
    "* __Pode retornar alguma coisa ou não__. Isso quer dizer que após o processamento da função ela pode retornar alguma coisa ou simplesmente efetuar seu processamento e não retornar nada.\n",
    "* O que indica a criação de uma função é a palavra reservada __def__.\n",
    "---"
   ]
  },
  {
   "cell_type": "markdown",
   "metadata": {},
   "source": [
    "__Vamos criar uma função simples__"
   ]
  },
  {
   "cell_type": "code",
   "execution_count": null,
   "metadata": {},
   "outputs": [],
   "source": []
  },
  {
   "cell_type": "markdown",
   "metadata": {},
   "source": [
    "__Vamos chamar a função criada__"
   ]
  },
  {
   "cell_type": "code",
   "execution_count": null,
   "metadata": {},
   "outputs": [],
   "source": []
  },
  {
   "cell_type": "code",
   "execution_count": null,
   "metadata": {},
   "outputs": [],
   "source": []
  },
  {
   "cell_type": "markdown",
   "metadata": {},
   "source": [
    "__Vamos criar uma função que receba um parâmetro__"
   ]
  },
  {
   "cell_type": "code",
   "execution_count": null,
   "metadata": {},
   "outputs": [],
   "source": []
  },
  {
   "cell_type": "code",
   "execution_count": null,
   "metadata": {},
   "outputs": [],
   "source": []
  },
  {
   "cell_type": "markdown",
   "metadata": {},
   "source": [
    "__Vamos criar uma função que receba parâmetros e RETORNA alguma coisa__"
   ]
  },
  {
   "cell_type": "code",
   "execution_count": null,
   "metadata": {},
   "outputs": [],
   "source": []
  },
  {
   "cell_type": "code",
   "execution_count": null,
   "metadata": {},
   "outputs": [],
   "source": []
  },
  {
   "cell_type": "code",
   "execution_count": null,
   "metadata": {},
   "outputs": [],
   "source": []
  },
  {
   "cell_type": "markdown",
   "metadata": {},
   "source": [
    "---\n",
    "\n",
    "__Exemplo:__ Vamos supor que precisamos criar regras para calcular um salário, ao invés disso estar repetido no código, temos uma função, que calcula o salário líquido."
   ]
  },
  {
   "cell_type": "code",
   "execution_count": null,
   "metadata": {},
   "outputs": [],
   "source": [
    "\n",
    "    \n",
    "print(\"$$$ CÁLCULO DO SALÁRIO LIQUIDO $$$\")\n",
    "print(\" > Seu salário é de R$ {0:.2f}\".format(vl_salario))\n",
    "print(\" > O IR descontará R$ {0:.2f} <\".format(desc_ir))\n",
    "print(\" > O INSS descontará R$ {0:.2f} <\".format(desc_inss))\n",
    "print(\" > Outras despesas descontará R$ {0:.2f} <\".format(desc_outros))\n",
    "    \n",
    "print(\" ### TOTAL DE DESCONTOS: R$ {0:.2f} ###\".format(tot_descontos))\n",
    "    \n",
    "print(\"\\n$$$ SEU SALÁRIO LIQUIDO SERÁ DE: R$ {0:.2f} $$$\".format(sal_liquido))"
   ]
  },
  {
   "cell_type": "code",
   "execution_count": null,
   "metadata": {},
   "outputs": [],
   "source": []
  },
  {
   "cell_type": "markdown",
   "metadata": {},
   "source": [
    "---"
   ]
  },
  {
   "cell_type": "markdown",
   "metadata": {},
   "source": [
    "__Definindo um valor default para a função__"
   ]
  },
  {
   "cell_type": "code",
   "execution_count": null,
   "metadata": {},
   "outputs": [],
   "source": []
  },
  {
   "cell_type": "code",
   "execution_count": null,
   "metadata": {},
   "outputs": [],
   "source": [
    "exibe_nome_2()"
   ]
  },
  {
   "cell_type": "code",
   "execution_count": null,
   "metadata": {},
   "outputs": [],
   "source": []
  },
  {
   "cell_type": "code",
   "execution_count": null,
   "metadata": {},
   "outputs": [],
   "source": []
  },
  {
   "cell_type": "markdown",
   "metadata": {},
   "source": [
    "__Automatizando a tabuada__\n",
    "\n",
    "Script da nossa última aula\n",
    "```\n",
    "for x, y in enumerate(range(2, (2*10)+1, 2), start=1):\n",
    "    print(\"2 x {0} = {1}\".format(x,y))\n",
    "```"
   ]
  },
  {
   "cell_type": "code",
   "execution_count": null,
   "metadata": {},
   "outputs": [],
   "source": []
  },
  {
   "cell_type": "code",
   "execution_count": null,
   "metadata": {},
   "outputs": [],
   "source": []
  },
  {
   "cell_type": "markdown",
   "metadata": {},
   "source": [
    "--- \n",
    "\n",
    "__Melhorando a escrita da função__"
   ]
  },
  {
   "cell_type": "code",
   "execution_count": null,
   "metadata": {},
   "outputs": [],
   "source": []
  },
  {
   "cell_type": "code",
   "execution_count": null,
   "metadata": {},
   "outputs": [],
   "source": []
  },
  {
   "cell_type": "code",
   "execution_count": null,
   "metadata": {},
   "outputs": [],
   "source": []
  },
  {
   "cell_type": "code",
   "execution_count": null,
   "metadata": {},
   "outputs": [],
   "source": []
  },
  {
   "cell_type": "code",
   "execution_count": null,
   "metadata": {},
   "outputs": [],
   "source": [
    "def cal_imposto_renda(salario: \"Fonte de Renda\", imposto: \"Valor dos Descontos\"):\n",
    "    print(teste)"
   ]
  },
  {
   "cell_type": "code",
   "execution_count": null,
   "metadata": {},
   "outputs": [],
   "source": [
    "cal_imposto_renda()"
   ]
  },
  {
   "cell_type": "markdown",
   "metadata": {},
   "source": [
    "---\n",
    "\n",
    "## __Links Úteis__\n",
    "* https://www.python.org/dev/peps/pep-3107/\n",
    "* https://stackoverflow.com/questions/2489669/how-do-python-functions-handle-the-types-of-the-parameters-that-you-pass-in\n",
    "* https://mkaz.blog/code/python-string-format-cookbook/"
   ]
  }
 ],
 "metadata": {
  "kernelspec": {
   "display_name": "Python 3",
   "language": "python",
   "name": "python3"
  },
  "language_info": {
   "codemirror_mode": {
    "name": "ipython",
    "version": 3
   },
   "file_extension": ".py",
   "mimetype": "text/x-python",
   "name": "python",
   "nbconvert_exporter": "python",
   "pygments_lexer": "ipython3",
   "version": "3.8.5"
  }
 },
 "nbformat": 4,
 "nbformat_minor": 4
}
