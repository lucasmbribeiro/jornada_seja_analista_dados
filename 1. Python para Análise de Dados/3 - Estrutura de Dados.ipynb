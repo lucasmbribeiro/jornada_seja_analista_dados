{
 "cells": [
  {
   "cell_type": "markdown",
   "metadata": {},
   "source": [
    "# __Estruturas de Dados__\n",
    "\n",
    "---"
   ]
  },
  {
   "cell_type": "markdown",
   "metadata": {},
   "source": [
    "## Tópicos da Aula de Hoje\n",
    "\n",
    "__Vamos falar sobre três estruturas de dados:__\n",
    "\n",
    "* Dicionário\n",
    "* Tupla\n",
    "* Lista\n",
    "\n",
    "---"
   ]
  },
  {
   "cell_type": "markdown",
   "metadata": {},
   "source": [
    "Mas....\n",
    "\n",
    "## __O que é estrutura de dados?__\n",
    "\n",
    "* Em uma simples frase, é a organização dos dados de forma estruturada (em uma estrutura).\n",
    "\n",
    "## __Pra que serve?__\n",
    "\n",
    "* Além da organização e da estrutura\n",
    "* Uma das suas principais funções é o armazenamento.\n",
    "* É a principal base para construirmos lógicas e/ou algoritmos.\n",
    "\n",
    "---"
   ]
  },
  {
   "cell_type": "markdown",
   "metadata": {},
   "source": [
    "## __Lista & Tupla__\n",
    "\n",
    "### __O que são?__\n",
    "\n",
    "* Ambas são estruturas para armazenar sequência de dados.\n",
    "* Seu valores são acessados de forma única, através do índice gerado automaticamente.\n",
    "* O índice começa sempre em 0.\n",
    "\n",
    "### __Qual a diferença?__\n",
    "\n",
    "* __LISTA :__ É mutável e é indicado que seus dados sejam homgêneos.\n",
    "* __TUPLA :__ É imutável e é indicado para dados heterogêneos.\n",
    "\n",
    "\n",
    "### __LISTA__\n",
    "![](./img/lista.png)\n",
    "\n",
    "\n",
    "### __TUPLA__\n",
    "![](./img/tupla.png)\n",
    "\n",
    "<br>\n",
    "\n",
    "---\n",
    "\n",
    "<br>\n",
    "\n",
    "## Dicionário\n",
    "\n",
    "### __O que é?__\n",
    "* É uma estrutura de dados coleção, onde uma chave pode assumir mais de um valor. Diferente da lista e tuplas onde o índice sempre terá um valor fixo.\n",
    "* Utiliza o conceito de ```key:value``` \n",
    "* Sua estrutura lembra uma tabela.\n",
    "\n",
    "![](./img/dicionario.png)\n",
    "\n",
    "<br>\n",
    "\n",
    "\n",
    "## __Operações__\n",
    "\n",
    "* Chega um momento em que queremos:\n",
    "* Adicionar\n",
    "* Remover\n",
    "* Ordenadar \n",
    "\n",
    "---"
   ]
  },
  {
   "cell_type": "markdown",
   "metadata": {},
   "source": [
    "<br>\n",
    "\n",
    "## __Tupla__"
   ]
  },
  {
   "cell_type": "code",
   "execution_count": null,
   "metadata": {},
   "outputs": [],
   "source": []
  },
  {
   "cell_type": "code",
   "execution_count": null,
   "metadata": {},
   "outputs": [],
   "source": []
  },
  {
   "cell_type": "markdown",
   "metadata": {},
   "source": [
    "---\n",
    "\n",
    "<br>\n",
    "\n",
    "## __Lista__\n",
    "\n",
    "![](./img/lista.png)\n"
   ]
  },
  {
   "cell_type": "code",
   "execution_count": null,
   "metadata": {},
   "outputs": [],
   "source": []
  },
  {
   "cell_type": "code",
   "execution_count": null,
   "metadata": {},
   "outputs": [],
   "source": []
  },
  {
   "cell_type": "code",
   "execution_count": null,
   "metadata": {},
   "outputs": [],
   "source": []
  },
  {
   "cell_type": "markdown",
   "metadata": {},
   "source": [
    "<br>\n",
    "\n",
    "__Acessando os valores__"
   ]
  },
  {
   "cell_type": "code",
   "execution_count": null,
   "metadata": {},
   "outputs": [],
   "source": []
  },
  {
   "cell_type": "markdown",
   "metadata": {},
   "source": [
    "<br>\n",
    "\n",
    "__Adicionando novos valores__\n",
    "\n",
    "```append()```"
   ]
  },
  {
   "cell_type": "code",
   "execution_count": null,
   "metadata": {},
   "outputs": [],
   "source": []
  },
  {
   "cell_type": "code",
   "execution_count": null,
   "metadata": {},
   "outputs": [],
   "source": []
  },
  {
   "cell_type": "markdown",
   "metadata": {},
   "source": [
    "<br>\n",
    "\n",
    "__Adicionando valores em uma posição determinada__ <br>\n",
    "\n",
    "```insert()```"
   ]
  },
  {
   "cell_type": "code",
   "execution_count": null,
   "metadata": {},
   "outputs": [],
   "source": []
  },
  {
   "cell_type": "code",
   "execution_count": null,
   "metadata": {},
   "outputs": [],
   "source": []
  },
  {
   "cell_type": "markdown",
   "metadata": {},
   "source": [
    "<br>\n",
    "\n",
    "### __Removendo valores__"
   ]
  },
  {
   "cell_type": "markdown",
   "metadata": {},
   "source": [
    "__Pelo valor do elemento__ <br>\n",
    "```remove()```"
   ]
  },
  {
   "cell_type": "code",
   "execution_count": null,
   "metadata": {},
   "outputs": [],
   "source": []
  },
  {
   "cell_type": "code",
   "execution_count": null,
   "metadata": {},
   "outputs": [],
   "source": []
  },
  {
   "cell_type": "markdown",
   "metadata": {},
   "source": [
    "<br>\n",
    "\n",
    "__Pelo valor do índice__ <br>\n",
    "\n",
    "```del()```"
   ]
  },
  {
   "cell_type": "code",
   "execution_count": null,
   "metadata": {},
   "outputs": [],
   "source": []
  },
  {
   "cell_type": "code",
   "execution_count": null,
   "metadata": {},
   "outputs": [],
   "source": []
  },
  {
   "cell_type": "markdown",
   "metadata": {},
   "source": [
    "<br>\n",
    "\n",
    "__Pelo valor do índice ... mas retorna o valor removido__ <br>\n",
    "\n",
    "```pop()```"
   ]
  },
  {
   "cell_type": "code",
   "execution_count": null,
   "metadata": {},
   "outputs": [],
   "source": []
  },
  {
   "cell_type": "code",
   "execution_count": null,
   "metadata": {},
   "outputs": [],
   "source": []
  },
  {
   "cell_type": "markdown",
   "metadata": {},
   "source": [
    "<br>\n",
    "\n",
    "__Tamanho da lista__\n",
    "\n",
    "```len()```"
   ]
  },
  {
   "cell_type": "code",
   "execution_count": null,
   "metadata": {},
   "outputs": [],
   "source": []
  },
  {
   "cell_type": "markdown",
   "metadata": {},
   "source": [
    "<br>\n",
    "\n",
    "---\n",
    "\n",
    "## __Dicionário__\n",
    "\n",
    "![](./img/dicionario.png)"
   ]
  },
  {
   "cell_type": "code",
   "execution_count": null,
   "metadata": {},
   "outputs": [],
   "source": []
  },
  {
   "cell_type": "code",
   "execution_count": null,
   "metadata": {},
   "outputs": [],
   "source": []
  },
  {
   "cell_type": "code",
   "execution_count": null,
   "metadata": {},
   "outputs": [],
   "source": []
  },
  {
   "cell_type": "markdown",
   "metadata": {},
   "source": [
    "<br>\n",
    "\n",
    "__Adicionando uma nova chave -> valor__"
   ]
  },
  {
   "cell_type": "code",
   "execution_count": null,
   "metadata": {},
   "outputs": [],
   "source": []
  },
  {
   "cell_type": "code",
   "execution_count": null,
   "metadata": {},
   "outputs": [],
   "source": []
  },
  {
   "cell_type": "markdown",
   "metadata": {},
   "source": [
    "<br>\n",
    "\n",
    "__Removendo chave -> valor__"
   ]
  },
  {
   "cell_type": "code",
   "execution_count": null,
   "metadata": {},
   "outputs": [],
   "source": []
  },
  {
   "cell_type": "code",
   "execution_count": null,
   "metadata": {},
   "outputs": [],
   "source": []
  },
  {
   "cell_type": "markdown",
   "metadata": {},
   "source": [
    "<br>\n",
    "\n",
    "__Removendo chave -> valor com pop__"
   ]
  },
  {
   "cell_type": "code",
   "execution_count": null,
   "metadata": {},
   "outputs": [],
   "source": []
  },
  {
   "cell_type": "code",
   "execution_count": null,
   "metadata": {},
   "outputs": [],
   "source": []
  },
  {
   "cell_type": "markdown",
   "metadata": {},
   "source": [
    "<br>\n",
    "\n",
    "---\n",
    "\n",
    "## __RESUMO__"
   ]
  },
  {
   "cell_type": "markdown",
   "metadata": {},
   "source": [
    "* Conhecemos três novas estruturas de dados.\n",
    "1. Tupla\n",
    "2. Dicionário\n",
    "3. Lista\n",
    "\n",
    "* Aprendemos formas de como adicionar um novo elemento e remover.\n",
    "\n",
    "Links de Referência:\n",
    "    \n",
    "* https://docs.python.org/pt-br/3/tutorial/datastructures.html"
   ]
  },
  {
   "cell_type": "code",
   "execution_count": null,
   "metadata": {},
   "outputs": [],
   "source": []
  }
 ],
 "metadata": {
  "kernelspec": {
   "display_name": "Python 3",
   "language": "python",
   "name": "python3"
  },
  "language_info": {
   "codemirror_mode": {
    "name": "ipython",
    "version": 3
   },
   "file_extension": ".py",
   "mimetype": "text/x-python",
   "name": "python",
   "nbconvert_exporter": "python",
   "pygments_lexer": "ipython3",
   "version": "3.8.5"
  }
 },
 "nbformat": 4,
 "nbformat_minor": 4
}
