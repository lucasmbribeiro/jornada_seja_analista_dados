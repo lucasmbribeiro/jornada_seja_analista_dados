{
 "cells": [
  {
   "cell_type": "markdown",
   "metadata": {},
   "source": [
    "# Variáveis\n",
    "---"
   ]
  },
  {
   "cell_type": "markdown",
   "metadata": {},
   "source": [
    "## __O que é?__\n",
    "\n",
    "* Variáveis são objetos a serem utilizados durante a execução do nosso código.\n",
    "* Ficam armazenada na memoria ram.\n",
    "* Só existem enquanto o nosso Kernel estiver ativo.\n",
    "\n",
    "## __Pra que serve?__\n",
    "\n",
    "Servem para armazenar valores, como: \n",
    "* textos \n",
    "* números inteiros e flutuantes \n",
    "* e até expressões.\n",
    "\n",
    "## __Estilos de escrita__\n",
    "\n",
    "* O estilo mais famoso é o __snake case__, onde cada palavra é separada por um underline (_). Dessa forma:\n",
    "```\n",
    "nome_aluno = \"Maria\"\n",
    "```\n",
    "\n",
    "* E também temos o camel case, onde a segunda palavra começa com uma letra maiúscula. Desa forma:\n",
    "```\n",
    "nomeAluno = \"Maria\"\n",
    "```\n",
    "\n",
    "## __Curiosidades__\n",
    "\n",
    "* Python é uma linguagem em que o tipo da variável é tipado de forma dinamica.\n",
    "* Podemos alterar uma variável de texto para número e assim em diante.\n",
    "* Não é preciso informar qual é tipo, exceto se quiser fazer converções.\n",
    "\n",
    "---"
   ]
  },
  {
   "cell_type": "markdown",
   "metadata": {},
   "source": [
    "## Variáveis do tipo texto (string)\n",
    "\n",
    "A palavra ```str``` é reservada pela linguagem para indicar ```string```, um conjunto de caracteres.\n",
    "\n",
    "Para declararmos uma variável do tipo texto, pode usar aspas simples ('') ou aspas duplas (\"\"). <br>\n",
    "Não existe uma regra, apenas uma boa prática de manter um padrão.\n",
    "\n",
    "Para declarar uma variável seguimos essa lógica:\n",
    "\n",
    "1. __Escolhemos um nome!__ Que não seja uma palavra reservada, que não tenha acentuações e espaços.\n",
    "2. __Usamos o sinal de atribuição (=)__ O sinal de atribuição no Python é __=__.\n",
    "3. __Digitamos o valor que queremos atribuir a essa variável__. Se for string, precisa estar entre aspas!\n",
    "\n",
    "<br>\n",
    "\n",
    "![](./variavel.png)\n",
    "\n",
    "<br>\n",
    "\n",
    "---\n"
   ]
  },
  {
   "cell_type": "code",
   "execution_count": null,
   "metadata": {},
   "outputs": [],
   "source": []
  },
  {
   "cell_type": "code",
   "execution_count": null,
   "metadata": {},
   "outputs": [],
   "source": []
  },
  {
   "cell_type": "code",
   "execution_count": null,
   "metadata": {},
   "outputs": [],
   "source": []
  },
  {
   "cell_type": "markdown",
   "metadata": {},
   "source": [
    "---\n",
    "\n",
    "## __Variável númerica inteira__\n",
    "\n",
    "<br>\n"
   ]
  },
  {
   "cell_type": "code",
   "execution_count": null,
   "metadata": {},
   "outputs": [],
   "source": []
  },
  {
   "cell_type": "code",
   "execution_count": null,
   "metadata": {},
   "outputs": [],
   "source": []
  },
  {
   "cell_type": "code",
   "execution_count": null,
   "metadata": {},
   "outputs": [],
   "source": []
  },
  {
   "cell_type": "markdown",
   "metadata": {},
   "source": [
    "---\n",
    "\n",
    "## __Variável númerica com ponto flutuante__\n",
    "\n",
    "<br>"
   ]
  },
  {
   "cell_type": "code",
   "execution_count": null,
   "metadata": {},
   "outputs": [],
   "source": []
  },
  {
   "cell_type": "code",
   "execution_count": null,
   "metadata": {},
   "outputs": [],
   "source": []
  },
  {
   "cell_type": "code",
   "execution_count": null,
   "metadata": {},
   "outputs": [],
   "source": []
  },
  {
   "cell_type": "markdown",
   "metadata": {},
   "source": [
    "---\n",
    "\n",
    "## __Variáveis Booleanas__\n",
    "\n",
    "São variáveis com apenas dois status, ```True``` ou ```False```.\n",
    "\n",
    "No Python __True__ e __False__ são palavavras reservas e sempre iniciam com letras maiúscula. <br>\n",
    "Representam um texto comum se usada com a inicial em minúscula."
   ]
  },
  {
   "cell_type": "code",
   "execution_count": null,
   "metadata": {},
   "outputs": [],
   "source": []
  },
  {
   "cell_type": "code",
   "execution_count": null,
   "metadata": {},
   "outputs": [],
   "source": []
  },
  {
   "cell_type": "code",
   "execution_count": null,
   "metadata": {},
   "outputs": [],
   "source": []
  },
  {
   "cell_type": "code",
   "execution_count": null,
   "metadata": {},
   "outputs": [],
   "source": []
  },
  {
   "cell_type": "code",
   "execution_count": null,
   "metadata": {},
   "outputs": [],
   "source": []
  },
  {
   "cell_type": "code",
   "execution_count": null,
   "metadata": {},
   "outputs": [],
   "source": []
  },
  {
   "cell_type": "markdown",
   "metadata": {},
   "source": [
    "---\n",
    "\n",
    "## __Conversões Explícitas__\n",
    "\n",
    "* Uma maneira que podemos alterar o tipo da variável, para um novo que desejamos.\n",
    "\n",
    "<br>\n",
    "\n",
    "---\n",
    "\n",
    "Exemplo:\n",
    "\n",
    "Vamos supor, que ao lermos um csv, a nossa coluna de valor do produto foi interpretada como texto ```str```. <br>\n",
    "__O que podemos fazer nesse caso?__\n"
   ]
  },
  {
   "cell_type": "code",
   "execution_count": null,
   "metadata": {},
   "outputs": [],
   "source": []
  },
  {
   "cell_type": "code",
   "execution_count": null,
   "metadata": {},
   "outputs": [],
   "source": []
  },
  {
   "cell_type": "code",
   "execution_count": null,
   "metadata": {},
   "outputs": [],
   "source": []
  },
  {
   "cell_type": "markdown",
   "metadata": {},
   "source": [
    "__Persistindo isso na variável__"
   ]
  },
  {
   "cell_type": "code",
   "execution_count": null,
   "metadata": {},
   "outputs": [],
   "source": []
  },
  {
   "cell_type": "code",
   "execution_count": null,
   "metadata": {},
   "outputs": [],
   "source": []
  },
  {
   "cell_type": "markdown",
   "metadata": {},
   "source": [
    "---\n",
    "\n",
    "__Conseguimos converter uma variável para outro tipo em alguns casos. Vou deixar alguns exemplos abaixo:__\n",
    "\n",
    "* ```int```, ```float``` e ```bool``` podem ser convertido para ```str``` sem nenhum problema.\n",
    "\n",
    "\n",
    "|De  | Para | Status |\n",
    "|:---: | :---:| :---:|\n",
    "|```str```    | ```int```   | Apenas se for um número inteiro valído, caso contrario, retorna erro. |\n",
    "| ```str```   | ```float``` | Apenas se for um número flutuante valído, caso contrario, retorna erro. |\n",
    "| ```int```   | ```float``` | Sucesso! |\n",
    "| ```float``` | ```int```   | Sucesso! |"
   ]
  },
  {
   "cell_type": "code",
   "execution_count": null,
   "metadata": {},
   "outputs": [],
   "source": []
  },
  {
   "cell_type": "code",
   "execution_count": null,
   "metadata": {},
   "outputs": [],
   "source": []
  },
  {
   "cell_type": "code",
   "execution_count": null,
   "metadata": {},
   "outputs": [],
   "source": []
  },
  {
   "cell_type": "code",
   "execution_count": null,
   "metadata": {},
   "outputs": [],
   "source": []
  },
  {
   "cell_type": "code",
   "execution_count": null,
   "metadata": {},
   "outputs": [],
   "source": []
  },
  {
   "cell_type": "markdown",
   "metadata": {},
   "source": [
    "---\n",
    "\n",
    "## __Redebendo um valor fornecedio em tela__\n",
    "\n",
    "* Conseguimos solicitar oa usuário informar um valor.\n",
    "* Não utilizamos em análise de dados mas achei interessante que vocês soubessem dessa função.\n",
    "\n",
    "---\n",
    "\n",
    "* A função ```input``` solicita a entrada de valores via teclado.\n",
    "* Independente do valor digitado, __sempre é retornado como string__!"
   ]
  },
  {
   "cell_type": "code",
   "execution_count": null,
   "metadata": {},
   "outputs": [],
   "source": []
  },
  {
   "cell_type": "code",
   "execution_count": null,
   "metadata": {},
   "outputs": [],
   "source": []
  },
  {
   "cell_type": "code",
   "execution_count": null,
   "metadata": {},
   "outputs": [],
   "source": []
  },
  {
   "cell_type": "code",
   "execution_count": null,
   "metadata": {},
   "outputs": [],
   "source": []
  },
  {
   "cell_type": "markdown",
   "metadata": {},
   "source": [
    "---\n",
    "\n",
    "# __Ufa!__\n",
    "\n",
    "![](https://media.giphy.com/media/Qn3RekagTuPmhtNbky/giphy.gif)"
   ]
  },
  {
   "cell_type": "markdown",
   "metadata": {},
   "source": [
    "## __Breve Resumo__\n",
    "\n",
    "* Aprendemos como declarar uma variável.\n",
    "* Falamos sobre os principais tipos: Str, Int, Float e Bool.\n",
    "* Conhecemos três funções nativas do Python: print(), type() e input()\n",
    "* Conversões de forma explícita para outro tipo."
   ]
  },
  {
   "cell_type": "markdown",
   "metadata": {},
   "source": [
    "---"
   ]
  }
 ],
 "metadata": {
  "kernelspec": {
   "display_name": "Python 3",
   "language": "python",
   "name": "python3"
  },
  "language_info": {
   "codemirror_mode": {
    "name": "ipython",
    "version": 3
   },
   "file_extension": ".py",
   "mimetype": "text/x-python",
   "name": "python",
   "nbconvert_exporter": "python",
   "pygments_lexer": "ipython3",
   "version": "3.8.5"
  }
 },
 "nbformat": 4,
 "nbformat_minor": 4
}
