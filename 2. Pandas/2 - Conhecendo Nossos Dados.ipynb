{
 "cells": [
  {
   "cell_type": "code",
   "execution_count": 2,
   "metadata": {},
   "outputs": [],
   "source": [
    "import pandas as pd"
   ]
  },
  {
   "cell_type": "code",
   "execution_count": 3,
   "metadata": {},
   "outputs": [],
   "source": [
    "df_venda = pd.read_csv('./base/itens_pedido.csv')"
   ]
  },
  {
   "cell_type": "code",
   "execution_count": 4,
   "metadata": {},
   "outputs": [
    {
     "data": {
      "text/html": [
       "<div>\n",
       "<style scoped>\n",
       "    .dataframe tbody tr th:only-of-type {\n",
       "        vertical-align: middle;\n",
       "    }\n",
       "\n",
       "    .dataframe tbody tr th {\n",
       "        vertical-align: top;\n",
       "    }\n",
       "\n",
       "    .dataframe thead th {\n",
       "        text-align: right;\n",
       "    }\n",
       "</style>\n",
       "<table border=\"1\" class=\"dataframe\">\n",
       "  <thead>\n",
       "    <tr style=\"text-align: right;\">\n",
       "      <th></th>\n",
       "      <th>id_pedido</th>\n",
       "      <th>id_item_pedido</th>\n",
       "      <th>id_produto</th>\n",
       "      <th>id_vendedor</th>\n",
       "      <th>dt_limite_envio</th>\n",
       "      <th>preco</th>\n",
       "      <th>vl_frete</th>\n",
       "    </tr>\n",
       "  </thead>\n",
       "  <tbody>\n",
       "    <tr>\n",
       "      <th>0</th>\n",
       "      <td>00010242fe8c5a6d1ba2dd792cb16214</td>\n",
       "      <td>1</td>\n",
       "      <td>4244733e06e7ecb4970a6e2683c13e61</td>\n",
       "      <td>48436dade18ac8b2bce089ec2a041202</td>\n",
       "      <td>2017-09-19 09:45:35</td>\n",
       "      <td>58.90</td>\n",
       "      <td>13.29</td>\n",
       "    </tr>\n",
       "    <tr>\n",
       "      <th>1</th>\n",
       "      <td>00018f77f2f0320c557190d7a144bdd3</td>\n",
       "      <td>1</td>\n",
       "      <td>e5f2d52b802189ee658865ca93d83a8f</td>\n",
       "      <td>dd7ddc04e1b6c2c614352b383efe2d36</td>\n",
       "      <td>2017-05-03 11:05:13</td>\n",
       "      <td>239.90</td>\n",
       "      <td>19.93</td>\n",
       "    </tr>\n",
       "    <tr>\n",
       "      <th>2</th>\n",
       "      <td>000229ec398224ef6ca0657da4fc703e</td>\n",
       "      <td>1</td>\n",
       "      <td>c777355d18b72b67abbeef9df44fd0fd</td>\n",
       "      <td>5b51032eddd242adc84c38acab88f23d</td>\n",
       "      <td>2018-01-18 14:48:30</td>\n",
       "      <td>199.00</td>\n",
       "      <td>17.87</td>\n",
       "    </tr>\n",
       "    <tr>\n",
       "      <th>3</th>\n",
       "      <td>00024acbcdf0a6daa1e931b038114c75</td>\n",
       "      <td>1</td>\n",
       "      <td>7634da152a4610f1595efa32f14722fc</td>\n",
       "      <td>9d7a1d34a5052409006425275ba1c2b4</td>\n",
       "      <td>2018-08-15 10:10:18</td>\n",
       "      <td>12.99</td>\n",
       "      <td>12.79</td>\n",
       "    </tr>\n",
       "    <tr>\n",
       "      <th>4</th>\n",
       "      <td>00042b26cf59d7ce69dfabb4e55b4fd9</td>\n",
       "      <td>1</td>\n",
       "      <td>ac6c3623068f30de03045865e4e10089</td>\n",
       "      <td>df560393f3a51e74553ab94004ba5c87</td>\n",
       "      <td>2017-02-13 13:57:51</td>\n",
       "      <td>199.90</td>\n",
       "      <td>18.14</td>\n",
       "    </tr>\n",
       "  </tbody>\n",
       "</table>\n",
       "</div>"
      ],
      "text/plain": [
       "                          id_pedido  id_item_pedido  \\\n",
       "0  00010242fe8c5a6d1ba2dd792cb16214               1   \n",
       "1  00018f77f2f0320c557190d7a144bdd3               1   \n",
       "2  000229ec398224ef6ca0657da4fc703e               1   \n",
       "3  00024acbcdf0a6daa1e931b038114c75               1   \n",
       "4  00042b26cf59d7ce69dfabb4e55b4fd9               1   \n",
       "\n",
       "                         id_produto                       id_vendedor  \\\n",
       "0  4244733e06e7ecb4970a6e2683c13e61  48436dade18ac8b2bce089ec2a041202   \n",
       "1  e5f2d52b802189ee658865ca93d83a8f  dd7ddc04e1b6c2c614352b383efe2d36   \n",
       "2  c777355d18b72b67abbeef9df44fd0fd  5b51032eddd242adc84c38acab88f23d   \n",
       "3  7634da152a4610f1595efa32f14722fc  9d7a1d34a5052409006425275ba1c2b4   \n",
       "4  ac6c3623068f30de03045865e4e10089  df560393f3a51e74553ab94004ba5c87   \n",
       "\n",
       "       dt_limite_envio   preco  vl_frete  \n",
       "0  2017-09-19 09:45:35   58.90     13.29  \n",
       "1  2017-05-03 11:05:13  239.90     19.93  \n",
       "2  2018-01-18 14:48:30  199.00     17.87  \n",
       "3  2018-08-15 10:10:18   12.99     12.79  \n",
       "4  2017-02-13 13:57:51  199.90     18.14  "
      ]
     },
     "execution_count": 4,
     "metadata": {},
     "output_type": "execute_result"
    }
   ],
   "source": [
    "df_venda.head()"
   ]
  },
  {
   "cell_type": "markdown",
   "metadata": {},
   "source": [
    "## QUANTIDADE DE LINHAS E COLUNAS\n",
    "***\n",
    "\n",
    "Retorna uma tupla com a informação da quantidade de linha e colunas."
   ]
  },
  {
   "cell_type": "code",
   "execution_count": 5,
   "metadata": {},
   "outputs": [
    {
     "data": {
      "text/plain": [
       "(112650, 7)"
      ]
     },
     "execution_count": 5,
     "metadata": {},
     "output_type": "execute_result"
    }
   ],
   "source": [
    "df_venda.shape"
   ]
  },
  {
   "cell_type": "code",
   "execution_count": 6,
   "metadata": {},
   "outputs": [
    {
     "data": {
      "text/plain": [
       "112650"
      ]
     },
     "execution_count": 6,
     "metadata": {},
     "output_type": "execute_result"
    }
   ],
   "source": [
    "df_venda.shape[0]"
   ]
  },
  {
   "cell_type": "code",
   "execution_count": 7,
   "metadata": {},
   "outputs": [
    {
     "data": {
      "text/plain": [
       "7"
      ]
     },
     "execution_count": 7,
     "metadata": {},
     "output_type": "execute_result"
    }
   ],
   "source": [
    "df_venda.shape[1]"
   ]
  },
  {
   "cell_type": "markdown",
   "metadata": {},
   "source": [
    "## INFORMAÇÕES SOBRE O DATAFRAME\n",
    "***\n",
    "\n",
    "__Informações básicas sobre o df:__\n",
    "* Nome das colunas\n",
    "* Índice\n",
    "* Quantidade de linhas não nulas\n",
    "* Data Type das colunas\n",
    "\n",
    "[Link](https://pandas.pydata.org/pandas-docs/stable/reference/api/pandas.DataFrame.info.html)\n",
    "\n",
    "### TABELA DE TIPO DE DADOS\n",
    "\n",
    "| Pandas   | Python   | NumPy | Uso |\n",
    "|---------------|--------------|---------------------------------|----------------------------------------------|\n",
    "| __object__        | str or mixed | string_, unicode_, mixed types | Texto ou valores mistos numéricos e não numéricos. |\n",
    "| __int64__         | int          | int_, int8, int16, int32, int64, uint8, uint16, uint32, uint64 | Números inteiros. |\n",
    "| __float64__       | float        | float_, float16, float32, float64 | Números com ponto flutuante. |\n",
    "| __bool__          | bool         | bool_ | Valores booleanos. |\n",
    "| __datetime64__    | datetime     | datetime64[ns] | Valores de data e hora. |\n",
    "| __timedelta[ns]__ | | | Diferenças entre duas datas. |\n",
    "| __category__      | | | Lista finita de valores de texto. |\n",
    "\n",
    "[Fonte da Tabela](https://pbpython.com/pandas_dtypes.html)"
   ]
  },
  {
   "cell_type": "code",
   "execution_count": 8,
   "metadata": {},
   "outputs": [
    {
     "name": "stdout",
     "output_type": "stream",
     "text": [
      "<class 'pandas.core.frame.DataFrame'>\n",
      "RangeIndex: 112650 entries, 0 to 112649\n",
      "Data columns (total 7 columns):\n",
      " #   Column           Non-Null Count   Dtype  \n",
      "---  ------           --------------   -----  \n",
      " 0   id_pedido        112650 non-null  object \n",
      " 1   id_item_pedido   112650 non-null  int64  \n",
      " 2   id_produto       112650 non-null  object \n",
      " 3   id_vendedor      112650 non-null  object \n",
      " 4   dt_limite_envio  112650 non-null  object \n",
      " 5   preco            112650 non-null  float64\n",
      " 6   vl_frete         112650 non-null  float64\n",
      "dtypes: float64(2), int64(1), object(4)\n",
      "memory usage: 6.0+ MB\n"
     ]
    }
   ],
   "source": [
    "df_venda.info()"
   ]
  },
  {
   "cell_type": "code",
   "execution_count": 13,
   "metadata": {},
   "outputs": [],
   "source": [
    "df_venda['dt_limite_envio'] = df_venda['dt_limite_envio'].astype('datetime64')"
   ]
  },
  {
   "cell_type": "code",
   "execution_count": 14,
   "metadata": {},
   "outputs": [
    {
     "name": "stdout",
     "output_type": "stream",
     "text": [
      "<class 'pandas.core.frame.DataFrame'>\n",
      "RangeIndex: 112650 entries, 0 to 112649\n",
      "Data columns (total 7 columns):\n",
      " #   Column           Non-Null Count   Dtype         \n",
      "---  ------           --------------   -----         \n",
      " 0   id_pedido        112650 non-null  object        \n",
      " 1   id_item_pedido   112650 non-null  int64         \n",
      " 2   id_produto       112650 non-null  object        \n",
      " 3   id_vendedor      112650 non-null  object        \n",
      " 4   dt_limite_envio  112650 non-null  datetime64[ns]\n",
      " 5   preco            112650 non-null  float64       \n",
      " 6   vl_frete         112650 non-null  float64       \n",
      "dtypes: datetime64[ns](1), float64(2), int64(1), object(3)\n",
      "memory usage: 6.0+ MB\n"
     ]
    }
   ],
   "source": [
    "df_venda.info()"
   ]
  },
  {
   "cell_type": "markdown",
   "metadata": {},
   "source": [
    "## __ESTATÍSTICAS DESCRITIVAS DAS COLUNAS NÚMERICAS__\n",
    "***\n",
    "\n",
    "* Contagem de linhas\n",
    "* Média\n",
    "* Desvio Padrão\n",
    "* Menor Valor da Linha\n",
    "* 25% dos dados\n",
    "* Mediana = 50% dos dados\n",
    "* 75% dos dados\n",
    "* Maior Valor da Linha\n",
    "\n",
    "[Link](https://pandas.pydata.org/pandas-docs/stable/reference/api/pandas.DataFrame.describe.html#pandas.DataFrame.describe)"
   ]
  },
  {
   "cell_type": "code",
   "execution_count": 9,
   "metadata": {},
   "outputs": [
    {
     "data": {
      "text/html": [
       "<div>\n",
       "<style scoped>\n",
       "    .dataframe tbody tr th:only-of-type {\n",
       "        vertical-align: middle;\n",
       "    }\n",
       "\n",
       "    .dataframe tbody tr th {\n",
       "        vertical-align: top;\n",
       "    }\n",
       "\n",
       "    .dataframe thead th {\n",
       "        text-align: right;\n",
       "    }\n",
       "</style>\n",
       "<table border=\"1\" class=\"dataframe\">\n",
       "  <thead>\n",
       "    <tr style=\"text-align: right;\">\n",
       "      <th></th>\n",
       "      <th>id_item_pedido</th>\n",
       "      <th>preco</th>\n",
       "      <th>vl_frete</th>\n",
       "    </tr>\n",
       "  </thead>\n",
       "  <tbody>\n",
       "    <tr>\n",
       "      <th>count</th>\n",
       "      <td>112650.000000</td>\n",
       "      <td>112650.000000</td>\n",
       "      <td>112650.000000</td>\n",
       "    </tr>\n",
       "    <tr>\n",
       "      <th>mean</th>\n",
       "      <td>1.197834</td>\n",
       "      <td>120.653739</td>\n",
       "      <td>19.990320</td>\n",
       "    </tr>\n",
       "    <tr>\n",
       "      <th>std</th>\n",
       "      <td>0.705124</td>\n",
       "      <td>183.633928</td>\n",
       "      <td>15.806405</td>\n",
       "    </tr>\n",
       "    <tr>\n",
       "      <th>min</th>\n",
       "      <td>1.000000</td>\n",
       "      <td>0.850000</td>\n",
       "      <td>0.000000</td>\n",
       "    </tr>\n",
       "    <tr>\n",
       "      <th>25%</th>\n",
       "      <td>1.000000</td>\n",
       "      <td>39.900000</td>\n",
       "      <td>13.080000</td>\n",
       "    </tr>\n",
       "    <tr>\n",
       "      <th>50%</th>\n",
       "      <td>1.000000</td>\n",
       "      <td>74.990000</td>\n",
       "      <td>16.260000</td>\n",
       "    </tr>\n",
       "    <tr>\n",
       "      <th>75%</th>\n",
       "      <td>1.000000</td>\n",
       "      <td>134.900000</td>\n",
       "      <td>21.150000</td>\n",
       "    </tr>\n",
       "    <tr>\n",
       "      <th>max</th>\n",
       "      <td>21.000000</td>\n",
       "      <td>6735.000000</td>\n",
       "      <td>409.680000</td>\n",
       "    </tr>\n",
       "  </tbody>\n",
       "</table>\n",
       "</div>"
      ],
      "text/plain": [
       "       id_item_pedido          preco       vl_frete\n",
       "count   112650.000000  112650.000000  112650.000000\n",
       "mean         1.197834     120.653739      19.990320\n",
       "std          0.705124     183.633928      15.806405\n",
       "min          1.000000       0.850000       0.000000\n",
       "25%          1.000000      39.900000      13.080000\n",
       "50%          1.000000      74.990000      16.260000\n",
       "75%          1.000000     134.900000      21.150000\n",
       "max         21.000000    6735.000000     409.680000"
      ]
     },
     "execution_count": 9,
     "metadata": {},
     "output_type": "execute_result"
    }
   ],
   "source": [
    "df_venda.describe()"
   ]
  },
  {
   "cell_type": "code",
   "execution_count": 10,
   "metadata": {},
   "outputs": [
    {
     "data": {
      "text/html": [
       "<div>\n",
       "<style scoped>\n",
       "    .dataframe tbody tr th:only-of-type {\n",
       "        vertical-align: middle;\n",
       "    }\n",
       "\n",
       "    .dataframe tbody tr th {\n",
       "        vertical-align: top;\n",
       "    }\n",
       "\n",
       "    .dataframe thead th {\n",
       "        text-align: right;\n",
       "    }\n",
       "</style>\n",
       "<table border=\"1\" class=\"dataframe\">\n",
       "  <thead>\n",
       "    <tr style=\"text-align: right;\">\n",
       "      <th></th>\n",
       "      <th>id_item_pedido</th>\n",
       "      <th>preco</th>\n",
       "      <th>vl_frete</th>\n",
       "    </tr>\n",
       "  </thead>\n",
       "  <tbody>\n",
       "    <tr>\n",
       "      <th>count</th>\n",
       "      <td>112650.00</td>\n",
       "      <td>112650.00</td>\n",
       "      <td>112650.00</td>\n",
       "    </tr>\n",
       "    <tr>\n",
       "      <th>mean</th>\n",
       "      <td>1.20</td>\n",
       "      <td>120.65</td>\n",
       "      <td>19.99</td>\n",
       "    </tr>\n",
       "    <tr>\n",
       "      <th>std</th>\n",
       "      <td>0.71</td>\n",
       "      <td>183.63</td>\n",
       "      <td>15.81</td>\n",
       "    </tr>\n",
       "    <tr>\n",
       "      <th>min</th>\n",
       "      <td>1.00</td>\n",
       "      <td>0.85</td>\n",
       "      <td>0.00</td>\n",
       "    </tr>\n",
       "    <tr>\n",
       "      <th>25%</th>\n",
       "      <td>1.00</td>\n",
       "      <td>39.90</td>\n",
       "      <td>13.08</td>\n",
       "    </tr>\n",
       "    <tr>\n",
       "      <th>50%</th>\n",
       "      <td>1.00</td>\n",
       "      <td>74.99</td>\n",
       "      <td>16.26</td>\n",
       "    </tr>\n",
       "    <tr>\n",
       "      <th>75%</th>\n",
       "      <td>1.00</td>\n",
       "      <td>134.90</td>\n",
       "      <td>21.15</td>\n",
       "    </tr>\n",
       "    <tr>\n",
       "      <th>max</th>\n",
       "      <td>21.00</td>\n",
       "      <td>6735.00</td>\n",
       "      <td>409.68</td>\n",
       "    </tr>\n",
       "  </tbody>\n",
       "</table>\n",
       "</div>"
      ],
      "text/plain": [
       "       id_item_pedido      preco   vl_frete\n",
       "count       112650.00  112650.00  112650.00\n",
       "mean             1.20     120.65      19.99\n",
       "std              0.71     183.63      15.81\n",
       "min              1.00       0.85       0.00\n",
       "25%              1.00      39.90      13.08\n",
       "50%              1.00      74.99      16.26\n",
       "75%              1.00     134.90      21.15\n",
       "max             21.00    6735.00     409.68"
      ]
     },
     "execution_count": 10,
     "metadata": {},
     "output_type": "execute_result"
    }
   ],
   "source": [
    "df_venda.describe().round(2)"
   ]
  },
  {
   "cell_type": "markdown",
   "metadata": {},
   "source": [
    "## CORRELAÇÃO ENTRE AS COLUNAS NÚMERICAS\n",
    "***\n",
    "\n",
    "[Link](https://pandas.pydata.org/pandas-docs/stable/reference/api/pandas.DataFrame.corr.html)\n",
    "\n",
    "![](./img/correlacao.png)\n",
    "\n",
    "* Nula = 0\n",
    "* Positiva = Maior que Zero\n",
    "* Negativa = Menor que Zero"
   ]
  },
  {
   "cell_type": "code",
   "execution_count": 12,
   "metadata": {},
   "outputs": [
    {
     "data": {
      "text/html": [
       "<div>\n",
       "<style scoped>\n",
       "    .dataframe tbody tr th:only-of-type {\n",
       "        vertical-align: middle;\n",
       "    }\n",
       "\n",
       "    .dataframe tbody tr th {\n",
       "        vertical-align: top;\n",
       "    }\n",
       "\n",
       "    .dataframe thead th {\n",
       "        text-align: right;\n",
       "    }\n",
       "</style>\n",
       "<table border=\"1\" class=\"dataframe\">\n",
       "  <thead>\n",
       "    <tr style=\"text-align: right;\">\n",
       "      <th></th>\n",
       "      <th>id_item_pedido</th>\n",
       "      <th>preco</th>\n",
       "      <th>vl_frete</th>\n",
       "    </tr>\n",
       "  </thead>\n",
       "  <tbody>\n",
       "    <tr>\n",
       "      <th>id_item_pedido</th>\n",
       "      <td>1.0000</td>\n",
       "      <td>-0.0605</td>\n",
       "      <td>-0.0294</td>\n",
       "    </tr>\n",
       "    <tr>\n",
       "      <th>preco</th>\n",
       "      <td>-0.0605</td>\n",
       "      <td>1.0000</td>\n",
       "      <td>0.4142</td>\n",
       "    </tr>\n",
       "    <tr>\n",
       "      <th>vl_frete</th>\n",
       "      <td>-0.0294</td>\n",
       "      <td>0.4142</td>\n",
       "      <td>1.0000</td>\n",
       "    </tr>\n",
       "  </tbody>\n",
       "</table>\n",
       "</div>"
      ],
      "text/plain": [
       "                id_item_pedido   preco  vl_frete\n",
       "id_item_pedido          1.0000 -0.0605   -0.0294\n",
       "preco                  -0.0605  1.0000    0.4142\n",
       "vl_frete               -0.0294  0.4142    1.0000"
      ]
     },
     "execution_count": 12,
     "metadata": {},
     "output_type": "execute_result"
    }
   ],
   "source": [
    "df_venda.corr().round(4)"
   ]
  },
  {
   "cell_type": "code",
   "execution_count": null,
   "metadata": {},
   "outputs": [],
   "source": []
  }
 ],
 "metadata": {
  "kernelspec": {
   "display_name": "Python 3",
   "language": "python",
   "name": "python3"
  },
  "language_info": {
   "codemirror_mode": {
    "name": "ipython",
    "version": 3
   },
   "file_extension": ".py",
   "mimetype": "text/x-python",
   "name": "python",
   "nbconvert_exporter": "python",
   "pygments_lexer": "ipython3",
   "version": "3.8.5"
  }
 },
 "nbformat": 4,
 "nbformat_minor": 4
}
