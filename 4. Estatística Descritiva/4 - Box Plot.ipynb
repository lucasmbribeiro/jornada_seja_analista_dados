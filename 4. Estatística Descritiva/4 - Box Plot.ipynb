{
 "cells": [
  {
   "cell_type": "markdown",
   "id": "aaee7261",
   "metadata": {},
   "source": [
    "# BOXPLOT\n",
    "---\n",
    "\n",
    "Nessa aula vamos aprender sobre o gráfico diagrama de caixa e entender alguns pontos como:\n",
    "\n",
    "* O que é o gráfico boxplot?\n",
    "\n",
    "* Pra que ser esse gráfico e como interpretalo?\n",
    "\n",
    "* Como construir um boxplot"
   ]
  },
  {
   "cell_type": "markdown",
   "id": "dc7c651f",
   "metadata": {},
   "source": [
    "## O que é o gráfico boxplot?\n",
    "---\n",
    "\n",
    "Vocês irão encontrar esse gráfico com alguns nomes como:\n",
    "* Boxplot\n",
    "* Diagrama de caixa\n",
    "* e até Diagrama de extremos\n",
    "\n",
    "Mas todos eles fazem mensão a mesma coisa!\n",
    "\n",
    "<br>\n",
    "\n",
    "![](https://upload.wikimedia.org/wikipedia/commons/c/c9/Elements_of_a_boxplot_pt.svg)"
   ]
  },
  {
   "cell_type": "markdown",
   "id": "27d12aa7",
   "metadata": {},
   "source": [
    "### E o boxplot serve para nos ajudar a entender de forma rápida a distribuição dos dados numéricos!"
   ]
  },
  {
   "cell_type": "code",
   "execution_count": 1,
   "id": "9ec968fe",
   "metadata": {},
   "outputs": [],
   "source": [
    "import pandas as pd\n",
    "import numpy as np\n",
    "import seaborn as sns"
   ]
  },
  {
   "cell_type": "code",
   "execution_count": 2,
   "id": "35f27831",
   "metadata": {},
   "outputs": [
    {
     "data": {
      "text/html": [
       "<div>\n",
       "<style scoped>\n",
       "    .dataframe tbody tr th:only-of-type {\n",
       "        vertical-align: middle;\n",
       "    }\n",
       "\n",
       "    .dataframe tbody tr th {\n",
       "        vertical-align: top;\n",
       "    }\n",
       "\n",
       "    .dataframe thead th {\n",
       "        text-align: right;\n",
       "    }\n",
       "</style>\n",
       "<table border=\"1\" class=\"dataframe\">\n",
       "  <thead>\n",
       "    <tr style=\"text-align: right;\">\n",
       "      <th></th>\n",
       "      <th>idade</th>\n",
       "    </tr>\n",
       "  </thead>\n",
       "  <tbody>\n",
       "    <tr>\n",
       "      <th>0</th>\n",
       "      <td>3</td>\n",
       "    </tr>\n",
       "    <tr>\n",
       "      <th>1</th>\n",
       "      <td>3</td>\n",
       "    </tr>\n",
       "    <tr>\n",
       "      <th>2</th>\n",
       "      <td>5</td>\n",
       "    </tr>\n",
       "    <tr>\n",
       "      <th>3</th>\n",
       "      <td>6</td>\n",
       "    </tr>\n",
       "    <tr>\n",
       "      <th>4</th>\n",
       "      <td>6</td>\n",
       "    </tr>\n",
       "  </tbody>\n",
       "</table>\n",
       "</div>"
      ],
      "text/plain": [
       "   idade\n",
       "0      3\n",
       "1      3\n",
       "2      5\n",
       "3      6\n",
       "4      6"
      ]
     },
     "execution_count": 2,
     "metadata": {},
     "output_type": "execute_result"
    }
   ],
   "source": [
    "df_idade = pd.DataFrame({'idade':[3, 3, 5, 6, 6, 7, 7, 9, 9, 11, 11, 12, 13, 13, 15, 15, 16, 17, 17, 17, 17, 18, 18, 22, 23, 23, 23, 24, 24, 25, 25, 26, 27, \n",
    " 28, 28, 28, 29, 29, 30, 32, 34, 35, 36, 38, 39, 41, 43, 43, 45, 47, 48, 49, 49, 50, 52, 52, 52, 53, 57, 59, 61, 61, 61, 61, 62, \n",
    "63, 64, 64, 65, 66, 66, 68, 70, 70, 73, 73, 74, 76, 77, 77, 77, 78, 79, 80, 81, 81, 81, 82, 83, 84, 86, 86, 86, 87, 88, 88, \n",
    "92, 93, 94, 94, 94\n",
    "]})\n",
    "\n",
    "df_idade.head()"
   ]
  },
  {
   "cell_type": "code",
   "execution_count": 3,
   "id": "bc6750f7",
   "metadata": {},
   "outputs": [
    {
     "data": {
      "text/html": [
       "<div>\n",
       "<style scoped>\n",
       "    .dataframe tbody tr th:only-of-type {\n",
       "        vertical-align: middle;\n",
       "    }\n",
       "\n",
       "    .dataframe tbody tr th {\n",
       "        vertical-align: top;\n",
       "    }\n",
       "\n",
       "    .dataframe thead th {\n",
       "        text-align: right;\n",
       "    }\n",
       "</style>\n",
       "<table border=\"1\" class=\"dataframe\">\n",
       "  <thead>\n",
       "    <tr style=\"text-align: right;\">\n",
       "      <th></th>\n",
       "      <th>idade</th>\n",
       "    </tr>\n",
       "  </thead>\n",
       "  <tbody>\n",
       "    <tr>\n",
       "      <th>count</th>\n",
       "      <td>101.000000</td>\n",
       "    </tr>\n",
       "    <tr>\n",
       "      <th>mean</th>\n",
       "      <td>47.316832</td>\n",
       "    </tr>\n",
       "    <tr>\n",
       "      <th>std</th>\n",
       "      <td>28.057060</td>\n",
       "    </tr>\n",
       "    <tr>\n",
       "      <th>min</th>\n",
       "      <td>3.000000</td>\n",
       "    </tr>\n",
       "    <tr>\n",
       "      <th>25%</th>\n",
       "      <td>23.000000</td>\n",
       "    </tr>\n",
       "    <tr>\n",
       "      <th>50%</th>\n",
       "      <td>48.000000</td>\n",
       "    </tr>\n",
       "    <tr>\n",
       "      <th>75%</th>\n",
       "      <td>73.000000</td>\n",
       "    </tr>\n",
       "    <tr>\n",
       "      <th>max</th>\n",
       "      <td>94.000000</td>\n",
       "    </tr>\n",
       "  </tbody>\n",
       "</table>\n",
       "</div>"
      ],
      "text/plain": [
       "            idade\n",
       "count  101.000000\n",
       "mean    47.316832\n",
       "std     28.057060\n",
       "min      3.000000\n",
       "25%     23.000000\n",
       "50%     48.000000\n",
       "75%     73.000000\n",
       "max     94.000000"
      ]
     },
     "execution_count": 3,
     "metadata": {},
     "output_type": "execute_result"
    }
   ],
   "source": [
    "df_idade.describe()"
   ]
  },
  {
   "cell_type": "code",
   "execution_count": 39,
   "id": "9f70645c",
   "metadata": {},
   "outputs": [
    {
     "data": {
      "image/png": "[encoded data removed]",
      "text/plain": [
       "<Figure size 864x288 with 1 Axes>"
      ]
     },
     "metadata": {
      "needs_background": "light"
     },
     "output_type": "display_data"
    }
   ],
   "source": [
    "ax = sns.boxplot(\n",
    "    data = df_idade,\n",
    "    x = 'idade'\n",
    "\n",
    ")\n",
    "\n",
    "ax.figure.set_size_inches(12,4)"
   ]
  },
  {
   "cell_type": "code",
   "execution_count": 5,
   "id": "e421472b",
   "metadata": {},
   "outputs": [
    {
     "data": {
      "image/png": "[encoded data removed]",
      "text/plain": [
       "<Figure size 864x432 with 1 Axes>"
      ]
     },
     "metadata": {
      "needs_background": "light"
     },
     "output_type": "display_data"
    }
   ],
   "source": [
    "ax = sns.boxplot(\n",
    "    data = df_idade,\n",
    "    y = 'idade'\n",
    "\n",
    ")\n",
    "\n",
    "ax.figure.set_size_inches(12,6)"
   ]
  },
  {
   "cell_type": "code",
   "execution_count": 41,
   "id": "a36130c9",
   "metadata": {},
   "outputs": [
    {
     "name": "stdout",
     "output_type": "stream",
     "text": [
      "[3, 3, 5, 6, 6, 7, 7, 9, 9, 11, 11, 12, 13, 13, 15, 15, 16, 17, 17, 17, 17, 18, 18, 22, 23, 23, 23, 24, 24, 25, 25, 26, 27, 28, 28, 28, 29, 29, 30, 32, 34, 35, 36, 38, 39, 41, 43, 43, 45, 47]\n",
      "\n",
      " [48, 49, 49, 50, 52, 52, 52, 53, 57, 59, 61, 61, 61, 61, 62, 63, 64, 64, 65, 66, 66, 68, 70, 70, 73, 73, 74, 76, 77, 77, 77, 78, 79, 80, 81, 81, 81, 82, 83, 84, 86, 86, 86, 87, 88, 88, 92, 93, 94, 94, 94]\n"
     ]
    }
   ],
   "source": [
    "print(sorted(df_idade['idade'].tolist())[0:50])\n",
    "\n",
    "print(\"\\n\",sorted(df_idade['idade'].tolist())[50:101])"
   ]
  },
  {
   "cell_type": "code",
   "execution_count": 45,
   "id": "a051fd11",
   "metadata": {},
   "outputs": [
    {
     "data": {
      "text/plain": [
       "23.0"
      ]
     },
     "execution_count": 45,
     "metadata": {},
     "output_type": "execute_result"
    }
   ],
   "source": [
    "np.percentile(df_idade['idade'], 25)"
   ]
  },
  {
   "cell_type": "code",
   "execution_count": 46,
   "id": "b30a19d7",
   "metadata": {},
   "outputs": [
    {
     "data": {
      "text/plain": [
       "48.0"
      ]
     },
     "execution_count": 46,
     "metadata": {},
     "output_type": "execute_result"
    }
   ],
   "source": [
    "np.percentile(df_idade['idade'], 50)"
   ]
  },
  {
   "cell_type": "code",
   "execution_count": 47,
   "id": "8598cd88",
   "metadata": {},
   "outputs": [
    {
     "data": {
      "text/plain": [
       "73.0"
      ]
     },
     "execution_count": 47,
     "metadata": {},
     "output_type": "execute_result"
    }
   ],
   "source": [
    "np.percentile(df_idade['idade'], 75)"
   ]
  },
  {
   "cell_type": "code",
   "execution_count": 10,
   "id": "2789bfb3",
   "metadata": {},
   "outputs": [
    {
     "data": {
      "text/html": [
       "<div>\n",
       "<style scoped>\n",
       "    .dataframe tbody tr th:only-of-type {\n",
       "        vertical-align: middle;\n",
       "    }\n",
       "\n",
       "    .dataframe tbody tr th {\n",
       "        vertical-align: top;\n",
       "    }\n",
       "\n",
       "    .dataframe thead th {\n",
       "        text-align: right;\n",
       "    }\n",
       "</style>\n",
       "<table border=\"1\" class=\"dataframe\">\n",
       "  <thead>\n",
       "    <tr style=\"text-align: right;\">\n",
       "      <th></th>\n",
       "      <th>idade</th>\n",
       "    </tr>\n",
       "  </thead>\n",
       "  <tbody>\n",
       "    <tr>\n",
       "      <th>0</th>\n",
       "      <td>3</td>\n",
       "    </tr>\n",
       "    <tr>\n",
       "      <th>1</th>\n",
       "      <td>3</td>\n",
       "    </tr>\n",
       "    <tr>\n",
       "      <th>2</th>\n",
       "      <td>5</td>\n",
       "    </tr>\n",
       "    <tr>\n",
       "      <th>3</th>\n",
       "      <td>6</td>\n",
       "    </tr>\n",
       "    <tr>\n",
       "      <th>4</th>\n",
       "      <td>6</td>\n",
       "    </tr>\n",
       "  </tbody>\n",
       "</table>\n",
       "</div>"
      ],
      "text/plain": [
       "   idade\n",
       "0      3\n",
       "1      3\n",
       "2      5\n",
       "3      6\n",
       "4      6"
      ]
     },
     "execution_count": 10,
     "metadata": {},
     "output_type": "execute_result"
    }
   ],
   "source": [
    "df_idade = pd.DataFrame({'idade':[3, 3, 5, 6, 6, 7, 7, 9, 9, 11, 11, 12, 13, 13, 15, 15, 16, 17, 17, 17, 17, 18, 18, 22, 23, 23, 23, 24, 24, 25, 25, 26, 27, \n",
    " 28, 28, 28, 29, 29, 30, 32, 34, 35, 36, 38, 39, 41, 43, 43, 45, 47, 48, 49, 49, 50, 52, 52, 52, 53, 57, 59, 61, 61, 61, 61, 62, \n",
    "63, 64, 64, 65, 66, 66, 68, 70, 70, 73, 73, 74, 76, 77, 77, 77, 78, 79, 80, 81, 81, 81, 82, 83, 84, 86, 86, 86, 87, 88, 88, \n",
    "92, 93, 94, 94, 94, 200, -200\n",
    "]})\n",
    "\n",
    "df_idade.head()"
   ]
  },
  {
   "cell_type": "code",
   "execution_count": 11,
   "id": "e0c5d0ae",
   "metadata": {},
   "outputs": [
    {
     "data": {
      "image/png": "[encoded data removed]",
      "text/plain": [
       "<Figure size 864x288 with 1 Axes>"
      ]
     },
     "metadata": {
      "needs_background": "light"
     },
     "output_type": "display_data"
    }
   ],
   "source": [
    "ax = sns.boxplot(\n",
    "    data = df_idade,\n",
    "    x = 'idade'\n",
    "\n",
    ")\n",
    "\n",
    "ax.figure.set_size_inches(12,4)"
   ]
  },
  {
   "cell_type": "code",
   "execution_count": 13,
   "id": "bb34cf0a",
   "metadata": {},
   "outputs": [
    {
     "data": {
      "text/plain": [
       "<AxesSubplot:xlabel='idade', ylabel='Count'>"
      ]
     },
     "execution_count": 13,
     "metadata": {},
     "output_type": "execute_result"
    },
    {
     "data": {
      "image/png": "[encoded data removed]",
      "text/plain": [
       "<Figure size 432x288 with 1 Axes>"
      ]
     },
     "metadata": {
      "needs_background": "light"
     },
     "output_type": "display_data"
    }
   ],
   "source": [
    "sns.histplot(\n",
    "    data = df_idade, x = 'idade'\n",
    "\n",
    ")"
   ]
  },
  {
   "cell_type": "code",
   "execution_count": null,
   "id": "b6ec77be",
   "metadata": {},
   "outputs": [],
   "source": []
  }
 ],
 "metadata": {
  "kernelspec": {
   "display_name": "analise_dados",
   "language": "python",
   "name": "analise_dados"
  },
  "language_info": {
   "codemirror_mode": {
    "name": "ipython",
    "version": 3
   },
   "file_extension": ".py",
   "mimetype": "text/x-python",
   "name": "python",
   "nbconvert_exporter": "python",
   "pygments_lexer": "ipython3",
   "version": "3.9.6"
  }
 },
 "nbformat": 4,
 "nbformat_minor": 5
}
