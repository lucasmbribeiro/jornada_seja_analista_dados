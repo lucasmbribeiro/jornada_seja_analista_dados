{
 "cells": [
  {
   "cell_type": "markdown",
   "id": "a5340059",
   "metadata": {},
   "source": [
    "# Estimativas de Localização (Tendência Central)\n",
    "***\n",
    "\n",
    "É um processo natural queremos resumir nossa métrica em um único número e muitas vezes usamos algumas medidas como:\n",
    "\n",
    "* Contagem\n",
    "* Somatória\n",
    "* Valor Mínimo\n",
    "* Valor Máximo\n",
    "* Média\n",
    "* Mediana\n",
    "\n",
    "Isso tudo tem o objetivo de resumir a métrica que está sendo analisada:\n",
    "\n",
    "* A média das notas dos alunos da 5º série é de 7.5\n",
    "* Hoje 4 alunos faltaram na aula de história.\n",
    "* O valor recebido no mês de Março foi de R$ 3.965,15"
   ]
  },
  {
   "cell_type": "code",
   "execution_count": 1,
   "id": "ef8d2a54",
   "metadata": {},
   "outputs": [],
   "source": [
    "import pandas as pd\n",
    "import numpy as np"
   ]
  },
  {
   "cell_type": "code",
   "execution_count": 2,
   "id": "ffdc2e82",
   "metadata": {},
   "outputs": [
    {
     "data": {
      "text/html": [
       "<div>\n",
       "<style scoped>\n",
       "    .dataframe tbody tr th:only-of-type {\n",
       "        vertical-align: middle;\n",
       "    }\n",
       "\n",
       "    .dataframe tbody tr th {\n",
       "        vertical-align: top;\n",
       "    }\n",
       "\n",
       "    .dataframe thead th {\n",
       "        text-align: right;\n",
       "    }\n",
       "</style>\n",
       "<table border=\"1\" class=\"dataframe\">\n",
       "  <thead>\n",
       "    <tr style=\"text-align: right;\">\n",
       "      <th></th>\n",
       "      <th>cidade</th>\n",
       "      <th>uf</th>\n",
       "      <th>populacao</th>\n",
       "    </tr>\n",
       "  </thead>\n",
       "  <tbody>\n",
       "    <tr>\n",
       "      <th>0</th>\n",
       "      <td>SãoPaulo</td>\n",
       "      <td>SãoPaulo</td>\n",
       "      <td>12396372</td>\n",
       "    </tr>\n",
       "    <tr>\n",
       "      <th>1</th>\n",
       "      <td>RiodeJaneiro</td>\n",
       "      <td>RiodeJaneiro</td>\n",
       "      <td>6775561</td>\n",
       "    </tr>\n",
       "    <tr>\n",
       "      <th>2</th>\n",
       "      <td>Brasília</td>\n",
       "      <td>DistritoFederal</td>\n",
       "      <td>3094325</td>\n",
       "    </tr>\n",
       "    <tr>\n",
       "      <th>3</th>\n",
       "      <td>Salvador</td>\n",
       "      <td>Bahia</td>\n",
       "      <td>2900319</td>\n",
       "    </tr>\n",
       "    <tr>\n",
       "      <th>4</th>\n",
       "      <td>Fortaleza</td>\n",
       "      <td>Ceará</td>\n",
       "      <td>2703391</td>\n",
       "    </tr>\n",
       "  </tbody>\n",
       "</table>\n",
       "</div>"
      ],
      "text/plain": [
       "         cidade               uf  populacao\n",
       "0      SãoPaulo         SãoPaulo   12396372\n",
       "1  RiodeJaneiro     RiodeJaneiro    6775561\n",
       "2      Brasília  DistritoFederal    3094325\n",
       "3      Salvador            Bahia    2900319\n",
       "4     Fortaleza            Ceará    2703391"
      ]
     },
     "execution_count": 2,
     "metadata": {},
     "output_type": "execute_result"
    }
   ],
   "source": [
    "# https://pt.wikipedia.org/wiki/Lista_de_munic%C3%ADpios_do_Brasil_por_popula%C3%A7%C3%A3o_(2021)\n",
    "\n",
    "df = pd.read_csv('pop_brasil.csv')\n",
    "\n",
    "df.head()"
   ]
  },
  {
   "cell_type": "code",
   "execution_count": 3,
   "id": "a3ed8a70",
   "metadata": {},
   "outputs": [
    {
     "name": "stdout",
     "output_type": "stream",
     "text": [
      "<class 'pandas.core.frame.DataFrame'>\n",
      "RangeIndex: 5570 entries, 0 to 5569\n",
      "Data columns (total 3 columns):\n",
      " #   Column     Non-Null Count  Dtype \n",
      "---  ------     --------------  ----- \n",
      " 0   cidade     5570 non-null   object\n",
      " 1   uf         5570 non-null   object\n",
      " 2   populacao  5570 non-null   int64 \n",
      "dtypes: int64(1), object(2)\n",
      "memory usage: 130.7+ KB\n"
     ]
    }
   ],
   "source": [
    "df.info()"
   ]
  },
  {
   "cell_type": "markdown",
   "id": "6047819d",
   "metadata": {},
   "source": [
    "## > Métricas Simples"
   ]
  },
  {
   "cell_type": "markdown",
   "id": "946c9408",
   "metadata": {},
   "source": [
    "### Contagem\n",
    "***\n",
    "\n",
    "* __Nos ajuda a identificar a quantidade de linhas que temos em nosso conjunto de dados.__\n",
    "* __Podemos contar de forma distinta ou não.__"
   ]
  },
  {
   "cell_type": "code",
   "execution_count": 4,
   "id": "c2d0670f",
   "metadata": {},
   "outputs": [
    {
     "data": {
      "text/plain": [
       "5570"
      ]
     },
     "execution_count": 4,
     "metadata": {},
     "output_type": "execute_result"
    }
   ],
   "source": [
    "# Quantidade de linhas\n",
    "df.shape[0]"
   ]
  },
  {
   "cell_type": "code",
   "execution_count": 5,
   "id": "61666011",
   "metadata": {},
   "outputs": [
    {
     "data": {
      "text/plain": [
       "27"
      ]
     },
     "execution_count": 5,
     "metadata": {},
     "output_type": "execute_result"
    }
   ],
   "source": [
    "# Quantidade de Estados Unicos\n",
    "df['uf'].nunique()"
   ]
  },
  {
   "cell_type": "markdown",
   "id": "91108ccc",
   "metadata": {},
   "source": [
    "### Máximo e Mínimo\n",
    "***\n",
    "\n",
    "* __Identificar o range de valores que a métrica tem.__"
   ]
  },
  {
   "cell_type": "code",
   "execution_count": 6,
   "id": "aa459b6a",
   "metadata": {},
   "outputs": [
    {
     "data": {
      "text/plain": [
       "771"
      ]
     },
     "execution_count": 6,
     "metadata": {},
     "output_type": "execute_result"
    }
   ],
   "source": [
    "# Valor Minimo\n",
    "np.min(df['populacao'])"
   ]
  },
  {
   "cell_type": "code",
   "execution_count": 7,
   "id": "0c661823",
   "metadata": {},
   "outputs": [
    {
     "data": {
      "text/plain": [
       "12396372"
      ]
     },
     "execution_count": 7,
     "metadata": {},
     "output_type": "execute_result"
    }
   ],
   "source": [
    "# Valor Maximo\n",
    "np.max(df['populacao'])"
   ]
  },
  {
   "cell_type": "markdown",
   "id": "a1f1a5df",
   "metadata": {},
   "source": [
    "### Média\n",
    "***\n",
    "\n",
    "* __É a estimativa de localização mais básica!__\n",
    "* __Leva em consideração todos os dados, SENSÍVEL A OUTLIERS.__"
   ]
  },
  {
   "cell_type": "code",
   "execution_count": 8,
   "id": "ed5cc741",
   "metadata": {},
   "outputs": [
    {
     "data": {
      "text/plain": [
       "38297.6013"
      ]
     },
     "execution_count": 8,
     "metadata": {},
     "output_type": "execute_result"
    }
   ],
   "source": [
    "np.mean(df['populacao']).round(4)"
   ]
  },
  {
   "cell_type": "markdown",
   "id": "9cbe9fe6",
   "metadata": {},
   "source": [
    "### Mediana\n",
    "***\n",
    "\n",
    "* __É o número central!__\n",
    "* __Para a mediana, o importante são os números centrais__\n",
    "* __NÃO É SENSÍVEL A OUTLIERS.__"
   ]
  },
  {
   "cell_type": "code",
   "execution_count": 9,
   "id": "2303d5e7",
   "metadata": {},
   "outputs": [
    {
     "data": {
      "text/plain": [
       "11732.0"
      ]
     },
     "execution_count": 9,
     "metadata": {},
     "output_type": "execute_result"
    }
   ],
   "source": [
    "np.median(df['populacao']).round(4)"
   ]
  },
  {
   "cell_type": "markdown",
   "id": "ffdb1134",
   "metadata": {},
   "source": [
    "### Então eu devo só utilizar a mediana?\n",
    "***\n",
    "\n",
    "# NÃO\n",
    "\n",
    "Tudo vai depender do conjunto de dados que você está analisando! Pensei um pouco sobre o conjunto que analisamos acima.\n",
    "\n",
    "Trata-se da quantidade de pessoas x cidade, é muito provável que tenhamos valores discrepantes espalhados ao longo do Brasil. Nesse caso a média pode te levar a um valor que não é tão real.\n",
    "\n",
    "Mas se formos falar das notas de um curso, ou de uma comparação de tempo em uma corrida de F1. Muito provável que a média seja extremamente útil.\n",
    "\n",
    "Então, sempre analise!"
   ]
  },
  {
   "cell_type": "code",
   "execution_count": 11,
   "id": "87fe14bd",
   "metadata": {},
   "outputs": [
    {
     "data": {
      "text/html": [
       "<div>\n",
       "<style scoped>\n",
       "    .dataframe tbody tr th:only-of-type {\n",
       "        vertical-align: middle;\n",
       "    }\n",
       "\n",
       "    .dataframe tbody tr th {\n",
       "        vertical-align: top;\n",
       "    }\n",
       "\n",
       "    .dataframe thead th {\n",
       "        text-align: right;\n",
       "    }\n",
       "</style>\n",
       "<table border=\"1\" class=\"dataframe\">\n",
       "  <thead>\n",
       "    <tr style=\"text-align: right;\">\n",
       "      <th></th>\n",
       "      <th>populacao</th>\n",
       "    </tr>\n",
       "  </thead>\n",
       "  <tbody>\n",
       "    <tr>\n",
       "      <th>count</th>\n",
       "      <td>5570.00</td>\n",
       "    </tr>\n",
       "    <tr>\n",
       "      <th>mean</th>\n",
       "      <td>38297.60</td>\n",
       "    </tr>\n",
       "    <tr>\n",
       "      <th>std</th>\n",
       "      <td>224288.15</td>\n",
       "    </tr>\n",
       "    <tr>\n",
       "      <th>min</th>\n",
       "      <td>771.00</td>\n",
       "    </tr>\n",
       "    <tr>\n",
       "      <th>25%</th>\n",
       "      <td>5454.00</td>\n",
       "    </tr>\n",
       "    <tr>\n",
       "      <th>50%</th>\n",
       "      <td>11732.00</td>\n",
       "    </tr>\n",
       "    <tr>\n",
       "      <th>75%</th>\n",
       "      <td>25764.75</td>\n",
       "    </tr>\n",
       "    <tr>\n",
       "      <th>max</th>\n",
       "      <td>12396372.00</td>\n",
       "    </tr>\n",
       "  </tbody>\n",
       "</table>\n",
       "</div>"
      ],
      "text/plain": [
       "         populacao\n",
       "count      5570.00\n",
       "mean      38297.60\n",
       "std      224288.15\n",
       "min         771.00\n",
       "25%        5454.00\n",
       "50%       11732.00\n",
       "75%       25764.75\n",
       "max    12396372.00"
      ]
     },
     "execution_count": 11,
     "metadata": {},
     "output_type": "execute_result"
    }
   ],
   "source": [
    "df.describe().round(2)"
   ]
  }
 ],
 "metadata": {
  "kernelspec": {
   "display_name": "analise_dados",
   "language": "python",
   "name": "analise_dados"
  },
  "language_info": {
   "codemirror_mode": {
    "name": "ipython",
    "version": 3
   },
   "file_extension": ".py",
   "mimetype": "text/x-python",
   "name": "python",
   "nbconvert_exporter": "python",
   "pygments_lexer": "ipython3",
   "version": "3.9.6"
  }
 },
 "nbformat": 4,
 "nbformat_minor": 5
}
