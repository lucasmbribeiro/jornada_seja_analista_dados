{
 "cells": [
  {
   "cell_type": "markdown",
   "id": "14488aad",
   "metadata": {},
   "source": [
    "# QUANTIL\n",
    "***\n",
    "\n",
    "__É a forma de dividir uma métrica em partes!__\n",
    "\n",
    "__Abaixo temos algumas das abordagens mais famosas__\n",
    "\n",
    "| Quantil | Quantidade de Quebras | Nome para essa divisão | Representação |\n",
    "|:------: |:---------------------:|:----------------------:|:-------------:|\n",
    "|100      |100                    |Percentis               |P              |\n",
    "|10       |10                     |Decis                   |D              |\n",
    "|5        |5                      |Quintis                 |QU             |\n",
    "|4        |4                      |Quartis                 |Q              |\n",
    "|3        |3                      |Tercis                  |T              |\n",
    "\n",
    "***"
   ]
  },
  {
   "cell_type": "code",
   "execution_count": 1,
   "id": "a4adf560",
   "metadata": {},
   "outputs": [],
   "source": [
    "import pandas as pd\n",
    "import numpy as np\n",
    "import seaborn as sns"
   ]
  },
  {
   "cell_type": "markdown",
   "id": "2423674e",
   "metadata": {},
   "source": [
    "# QUARTIL\n",
    "\n",
    "É a forma de encontrarmos a \"concetração\" da nossa métrica divindo ela em três partes.\n",
    "\n",
    "* __PRIMEIRO QUARTIL__ → __Q1__ : 25% da métrica\n",
    "* __SEGUNDO QUARTIL__ → __Q2__ : 50% da métrica\n",
    "* __TERCEIRO QUARTIL__ → __Q3__ : 75% da métrica"
   ]
  },
  {
   "cell_type": "code",
   "execution_count": 2,
   "id": "ce0f339c",
   "metadata": {},
   "outputs": [],
   "source": [
    "df = pd.DataFrame({\"numero\": [78, 30, 45, 83, 56, 66, 29, 36, 72, 52, 90, 82]})"
   ]
  },
  {
   "cell_type": "code",
   "execution_count": 3,
   "id": "2682e49c",
   "metadata": {},
   "outputs": [
    {
     "name": "stdout",
     "output_type": "stream",
     "text": [
      "[29, 30, 36, 45, 52, 56, 66, 72, 78, 82, 83, 90]\n"
     ]
    }
   ],
   "source": [
    "lst = [\n",
    "    29, 30, 36, 45, 52, 56,\n",
    "    \n",
    "    66, 72, 78, 82, 83, 90\n",
    "]\n",
    "\n",
    "print(lst)"
   ]
  },
  {
   "cell_type": "code",
   "execution_count": 4,
   "id": "ffdd49e2",
   "metadata": {},
   "outputs": [
    {
     "data": {
      "text/plain": [
       "42.75"
      ]
     },
     "execution_count": 4,
     "metadata": {},
     "output_type": "execute_result"
    }
   ],
   "source": [
    "# Q1 -- OLHA PARA A PARTE INFERIOR (PRIMEIRA METADA)\n",
    "df['numero'].quantile(0.25)"
   ]
  },
  {
   "cell_type": "code",
   "execution_count": 10,
   "id": "48f5945b",
   "metadata": {},
   "outputs": [
    {
     "data": {
      "text/plain": [
       "42.75"
      ]
     },
     "execution_count": 10,
     "metadata": {},
     "output_type": "execute_result"
    }
   ],
   "source": [
    "np.percentile(df['numero'], 25)"
   ]
  },
  {
   "cell_type": "code",
   "execution_count": 5,
   "id": "4d5c4f0f",
   "metadata": {},
   "outputs": [
    {
     "data": {
      "text/plain": [
       "61.0"
      ]
     },
     "execution_count": 5,
     "metadata": {},
     "output_type": "execute_result"
    }
   ],
   "source": [
    "# Q2 -- É A MEDIANA\n",
    "df['numero'].quantile(0.50)"
   ]
  },
  {
   "cell_type": "code",
   "execution_count": 6,
   "id": "636a0a59",
   "metadata": {},
   "outputs": [
    {
     "data": {
      "text/plain": [
       "79.0"
      ]
     },
     "execution_count": 6,
     "metadata": {},
     "output_type": "execute_result"
    }
   ],
   "source": [
    "# Q3 -- OLHA PARA A PARTE SUPERIOR (SEGUNDA METADA)\n",
    "df['numero'].quantile(0.75)"
   ]
  },
  {
   "cell_type": "code",
   "execution_count": 7,
   "id": "73c6516c",
   "metadata": {},
   "outputs": [
    {
     "data": {
      "text/plain": [
       "count    12.000000\n",
       "mean     59.916667\n",
       "std      21.656233\n",
       "min      29.000000\n",
       "25%      42.750000\n",
       "50%      61.000000\n",
       "75%      79.000000\n",
       "max      90.000000\n",
       "Name: numero, dtype: float64"
      ]
     },
     "execution_count": 7,
     "metadata": {},
     "output_type": "execute_result"
    }
   ],
   "source": [
    "df['numero'].describe()"
   ]
  },
  {
   "cell_type": "markdown",
   "id": "382da349",
   "metadata": {},
   "source": [
    "### VARIAÇÃO INTERQUARTIL\n",
    "\n",
    "* Também conhecida como: __IQR__ (**i**nter**q**uartile **r**ange)."
   ]
  },
  {
   "cell_type": "code",
   "execution_count": 8,
   "id": "ed85ae78",
   "metadata": {},
   "outputs": [
    {
     "data": {
      "text/plain": [
       "36.25"
      ]
     },
     "execution_count": 8,
     "metadata": {},
     "output_type": "execute_result"
    }
   ],
   "source": [
    "79 - 42.75"
   ]
  },
  {
   "cell_type": "code",
   "execution_count": 9,
   "id": "5cde01ce",
   "metadata": {},
   "outputs": [
    {
     "data": {
      "text/plain": [
       "<AxesSubplot:xlabel='numero'>"
      ]
     },
     "execution_count": 9,
     "metadata": {},
     "output_type": "execute_result"
    },
    {
     "data": {
      "image/png": "[encoded data removed]",
      "text/plain": [
       "<Figure size 432x288 with 1 Axes>"
      ]
     },
     "metadata": {
      "needs_background": "light"
     },
     "output_type": "display_data"
    }
   ],
   "source": [
    "sns.boxplot(data = df, x = 'numero')"
   ]
  },
  {
   "cell_type": "code",
   "execution_count": null,
   "id": "666fa7e4",
   "metadata": {},
   "outputs": [],
   "source": []
  }
 ],
 "metadata": {
  "kernelspec": {
   "display_name": "analise_dados",
   "language": "python",
   "name": "analise_dados"
  },
  "language_info": {
   "codemirror_mode": {
    "name": "ipython",
    "version": 3
   },
   "file_extension": ".py",
   "mimetype": "text/x-python",
   "name": "python",
   "nbconvert_exporter": "python",
   "pygments_lexer": "ipython3",
   "version": "3.9.6"
  }
 },
 "nbformat": 4,
 "nbformat_minor": 5
}
