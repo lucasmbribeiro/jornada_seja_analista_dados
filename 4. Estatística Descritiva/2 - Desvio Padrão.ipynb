{
 "cells": [
  {
   "cell_type": "markdown",
   "metadata": {
    "id": "jRkpYYfbCJW_"
   },
   "source": [
    "# Variação ou Dispersão\n",
    "\n",
    "__Qual o objetivo desse tópico?__<br>\n",
    "Entender se os valores estão espalhados ou compactados."
   ]
  },
  {
   "cell_type": "code",
   "execution_count": 2,
   "metadata": {
    "id": "KC7B4jNvGQtI"
   },
   "outputs": [],
   "source": [
    "import pandas as pd\n",
    "import numpy as np\n",
    "import seaborn as sns"
   ]
  },
  {
   "cell_type": "markdown",
   "metadata": {
    "id": "cv0l9oCPDg5I"
   },
   "source": [
    "## DESVIO PADRÃO\n",
    "\n",
    "* O desvio padrão é uma medida que nos informa o quanto nosso conjunto de dados está disperso.\n",
    "* Quanto mais próximo ao 0 (zero) menos disperso os dados estão!\n",
    "* O desvio padrão é a raiz quadrada da variância.\n",
    "* O resultado do desvio padrão vem na mesma unidade da métrica que está sendo analisada, isso facilita e muito na hora da análise."
   ]
  },
  {
   "cell_type": "code",
   "execution_count": 3,
   "metadata": {
    "colab": {
     "base_uri": "https://localhost:8080/"
    },
    "id": "-BuX_PrIAUM0",
    "outputId": "9207f545-432e-4a0b-e642-3575248e43d4"
   },
   "outputs": [
    {
     "name": "stdout",
     "output_type": "stream",
     "text": [
      "Média: 1.0\n",
      "Mediana: 1.0\n",
      "STD: 0.0\n"
     ]
    }
   ],
   "source": [
    "lst_1 = [1,1,1]\n",
    "\n",
    "print(\"Média: {0}\".format(np.mean(lst_1)))\n",
    "print(\"Mediana: {0}\".format(np.median(lst_1)))\n",
    "print(\"STD: {0}\".format(np.std(lst_1)))"
   ]
  },
  {
   "cell_type": "code",
   "execution_count": 4,
   "metadata": {
    "colab": {
     "base_uri": "https://localhost:8080/"
    },
    "id": "20RIQZaQGcOT",
    "outputId": "e01ea83a-e24c-4462-d944-1328d9336a73"
   },
   "outputs": [
    {
     "name": "stdout",
     "output_type": "stream",
     "text": [
      "Média: 2.5\n",
      "Mediana: 2.5\n",
      "STD: 1.118033988749895\n"
     ]
    }
   ],
   "source": [
    "lst_2 = [ 1, 2, 3, 4]\n",
    "\n",
    "print(\"Média: {0}\".format(np.mean(lst_2)))\n",
    "print(\"Mediana: {0}\".format(np.median(lst_2)))\n",
    "print(\"STD: {0}\".format(np.std(lst_2)))"
   ]
  },
  {
   "cell_type": "code",
   "execution_count": 5,
   "metadata": {
    "colab": {
     "base_uri": "https://localhost:8080/"
    },
    "id": "39vxqr9yGn-U",
    "outputId": "b66a9365-7f43-46e3-cd38-239563d52199"
   },
   "outputs": [
    {
     "name": "stdout",
     "output_type": "stream",
     "text": [
      "Média: 291.2\n",
      "Mediana: 175.0\n",
      "STD: 361.39695626831167\n"
     ]
    }
   ],
   "source": [
    "lst_3 = [ 80, 1, 1000, 175, 200]\n",
    "\n",
    "print(\"Média: {0}\".format(np.mean(lst_3)))\n",
    "print(\"Mediana: {0}\".format(np.median(lst_3)))\n",
    "print(\"STD: {0}\".format(np.std(lst_3)))"
   ]
  },
  {
   "cell_type": "code",
   "execution_count": 6,
   "metadata": {
    "colab": {
     "base_uri": "https://localhost:8080/",
     "height": 204
    },
    "id": "nBG68HWgG9_s",
    "outputId": "cbb6a3e9-df46-4f62-fcfc-a2403b9811ac"
   },
   "outputs": [
    {
     "data": {
      "text/html": [
       "<div>\n",
       "<style scoped>\n",
       "    .dataframe tbody tr th:only-of-type {\n",
       "        vertical-align: middle;\n",
       "    }\n",
       "\n",
       "    .dataframe tbody tr th {\n",
       "        vertical-align: top;\n",
       "    }\n",
       "\n",
       "    .dataframe thead th {\n",
       "        text-align: right;\n",
       "    }\n",
       "</style>\n",
       "<table border=\"1\" class=\"dataframe\">\n",
       "  <thead>\n",
       "    <tr style=\"text-align: right;\">\n",
       "      <th></th>\n",
       "      <th>cidade</th>\n",
       "      <th>uf</th>\n",
       "      <th>populacao</th>\n",
       "    </tr>\n",
       "  </thead>\n",
       "  <tbody>\n",
       "    <tr>\n",
       "      <th>0</th>\n",
       "      <td>SãoPaulo</td>\n",
       "      <td>SãoPaulo</td>\n",
       "      <td>12396372</td>\n",
       "    </tr>\n",
       "    <tr>\n",
       "      <th>1</th>\n",
       "      <td>RiodeJaneiro</td>\n",
       "      <td>RiodeJaneiro</td>\n",
       "      <td>6775561</td>\n",
       "    </tr>\n",
       "    <tr>\n",
       "      <th>2</th>\n",
       "      <td>Brasília</td>\n",
       "      <td>DistritoFederal</td>\n",
       "      <td>3094325</td>\n",
       "    </tr>\n",
       "    <tr>\n",
       "      <th>3</th>\n",
       "      <td>Salvador</td>\n",
       "      <td>Bahia</td>\n",
       "      <td>2900319</td>\n",
       "    </tr>\n",
       "    <tr>\n",
       "      <th>4</th>\n",
       "      <td>Fortaleza</td>\n",
       "      <td>Ceará</td>\n",
       "      <td>2703391</td>\n",
       "    </tr>\n",
       "  </tbody>\n",
       "</table>\n",
       "</div>"
      ],
      "text/plain": [
       "         cidade               uf  populacao\n",
       "0      SãoPaulo         SãoPaulo   12396372\n",
       "1  RiodeJaneiro     RiodeJaneiro    6775561\n",
       "2      Brasília  DistritoFederal    3094325\n",
       "3      Salvador            Bahia    2900319\n",
       "4     Fortaleza            Ceará    2703391"
      ]
     },
     "execution_count": 6,
     "metadata": {},
     "output_type": "execute_result"
    }
   ],
   "source": [
    "df = pd.read_csv('pop_brasil.csv')\n",
    "df.head()"
   ]
  },
  {
   "cell_type": "code",
   "execution_count": 7,
   "metadata": {
    "colab": {
     "base_uri": "https://localhost:8080/"
    },
    "id": "r8xAtbGqJYSl",
    "outputId": "cd3d9954-2cd8-4058-f3be-81eb66241860"
   },
   "outputs": [
    {
     "name": "stdout",
     "output_type": "stream",
     "text": [
      "Média: 38297.601256732494\n",
      "Mediana: 11732.0\n",
      "STD: 224268.01831921053\n"
     ]
    }
   ],
   "source": [
    "print(\"Média: {0}\".format(np.mean(df['populacao'])))\n",
    "print(\"Mediana: {0}\".format(np.median(df['populacao'])))\n",
    "print(\"STD: {0}\".format(np.std(df['populacao'])))"
   ]
  },
  {
   "cell_type": "code",
   "execution_count": 10,
   "metadata": {},
   "outputs": [
    {
     "data": {
      "text/html": [
       "<div>\n",
       "<style scoped>\n",
       "    .dataframe tbody tr th:only-of-type {\n",
       "        vertical-align: middle;\n",
       "    }\n",
       "\n",
       "    .dataframe tbody tr th {\n",
       "        vertical-align: top;\n",
       "    }\n",
       "\n",
       "    .dataframe thead th {\n",
       "        text-align: right;\n",
       "    }\n",
       "</style>\n",
       "<table border=\"1\" class=\"dataframe\">\n",
       "  <thead>\n",
       "    <tr style=\"text-align: right;\">\n",
       "      <th></th>\n",
       "      <th>populacao</th>\n",
       "    </tr>\n",
       "  </thead>\n",
       "  <tbody>\n",
       "    <tr>\n",
       "      <th>count</th>\n",
       "      <td>5570.00</td>\n",
       "    </tr>\n",
       "    <tr>\n",
       "      <th>mean</th>\n",
       "      <td>38297.60</td>\n",
       "    </tr>\n",
       "    <tr>\n",
       "      <th>std</th>\n",
       "      <td>224288.15</td>\n",
       "    </tr>\n",
       "    <tr>\n",
       "      <th>min</th>\n",
       "      <td>771.00</td>\n",
       "    </tr>\n",
       "    <tr>\n",
       "      <th>25%</th>\n",
       "      <td>5454.00</td>\n",
       "    </tr>\n",
       "    <tr>\n",
       "      <th>50%</th>\n",
       "      <td>11732.00</td>\n",
       "    </tr>\n",
       "    <tr>\n",
       "      <th>75%</th>\n",
       "      <td>25764.75</td>\n",
       "    </tr>\n",
       "    <tr>\n",
       "      <th>max</th>\n",
       "      <td>12396372.00</td>\n",
       "    </tr>\n",
       "  </tbody>\n",
       "</table>\n",
       "</div>"
      ],
      "text/plain": [
       "         populacao\n",
       "count      5570.00\n",
       "mean      38297.60\n",
       "std      224288.15\n",
       "min         771.00\n",
       "25%        5454.00\n",
       "50%       11732.00\n",
       "75%       25764.75\n",
       "max    12396372.00"
      ]
     },
     "execution_count": 10,
     "metadata": {},
     "output_type": "execute_result"
    }
   ],
   "source": [
    "df.describe().round(2)"
   ]
  },
  {
   "cell_type": "code",
   "execution_count": 11,
   "metadata": {
    "colab": {
     "base_uri": "https://localhost:8080/",
     "height": 307
    },
    "id": "tRCScXqbJdmF",
    "outputId": "ada7ffac-086c-4d85-ebe6-578db5515c03"
   },
   "outputs": [
    {
     "data": {
      "text/plain": [
       "<AxesSubplot:xlabel='populacao', ylabel='populacao'>"
      ]
     },
     "execution_count": 11,
     "metadata": {},
     "output_type": "execute_result"
    },
    {
     "data": {
      "image/png": "[encoded data removed]",
      "text/plain": [
       "<Figure size 432x288 with 1 Axes>"
      ]
     },
     "metadata": {
      "needs_background": "light"
     },
     "output_type": "display_data"
    }
   ],
   "source": [
    "sns.scatterplot(\n",
    "    data = df,\n",
    "    x = 'populacao',\n",
    "    y = 'populacao'\n",
    ")"
   ]
  },
  {
   "cell_type": "code",
   "execution_count": 12,
   "metadata": {
    "colab": {
     "base_uri": "https://localhost:8080/",
     "height": 204
    },
    "id": "TJK0DjsnKG9H",
    "outputId": "051bf9a2-8ae8-4bff-ca32-6a9eb7ae7cc1"
   },
   "outputs": [
    {
     "data": {
      "text/html": [
       "<div>\n",
       "<style scoped>\n",
       "    .dataframe tbody tr th:only-of-type {\n",
       "        vertical-align: middle;\n",
       "    }\n",
       "\n",
       "    .dataframe tbody tr th {\n",
       "        vertical-align: top;\n",
       "    }\n",
       "\n",
       "    .dataframe thead th {\n",
       "        text-align: right;\n",
       "    }\n",
       "</style>\n",
       "<table border=\"1\" class=\"dataframe\">\n",
       "  <thead>\n",
       "    <tr style=\"text-align: right;\">\n",
       "      <th></th>\n",
       "      <th>uf</th>\n",
       "      <th>pop</th>\n",
       "      <th>media</th>\n",
       "      <th>mediana</th>\n",
       "      <th>std</th>\n",
       "      <th>qtd_cidade</th>\n",
       "    </tr>\n",
       "  </thead>\n",
       "  <tbody>\n",
       "    <tr>\n",
       "      <th>0</th>\n",
       "      <td>Acre</td>\n",
       "      <td>906876</td>\n",
       "      <td>41221.636</td>\n",
       "      <td>19685.0</td>\n",
       "      <td>86435.715</td>\n",
       "      <td>22</td>\n",
       "    </tr>\n",
       "    <tr>\n",
       "      <th>1</th>\n",
       "      <td>Alagoas</td>\n",
       "      <td>3365351</td>\n",
       "      <td>32993.637</td>\n",
       "      <td>17599.5</td>\n",
       "      <td>103384.097</td>\n",
       "      <td>102</td>\n",
       "    </tr>\n",
       "    <tr>\n",
       "      <th>2</th>\n",
       "      <td>Amapá</td>\n",
       "      <td>877613</td>\n",
       "      <td>54850.812</td>\n",
       "      <td>17098.5</td>\n",
       "      <td>128116.914</td>\n",
       "      <td>16</td>\n",
       "    </tr>\n",
       "    <tr>\n",
       "      <th>3</th>\n",
       "      <td>Amazonas</td>\n",
       "      <td>4269995</td>\n",
       "      <td>68870.887</td>\n",
       "      <td>26504.5</td>\n",
       "      <td>283285.104</td>\n",
       "      <td>62</td>\n",
       "    </tr>\n",
       "    <tr>\n",
       "      <th>4</th>\n",
       "      <td>Bahia</td>\n",
       "      <td>14985284</td>\n",
       "      <td>35935.933</td>\n",
       "      <td>17087.0</td>\n",
       "      <td>148074.654</td>\n",
       "      <td>417</td>\n",
       "    </tr>\n",
       "  </tbody>\n",
       "</table>\n",
       "</div>"
      ],
      "text/plain": [
       "         uf       pop      media  mediana         std  qtd_cidade\n",
       "0      Acre    906876  41221.636  19685.0   86435.715          22\n",
       "1   Alagoas   3365351  32993.637  17599.5  103384.097         102\n",
       "2     Amapá    877613  54850.812  17098.5  128116.914          16\n",
       "3  Amazonas   4269995  68870.887  26504.5  283285.104          62\n",
       "4     Bahia  14985284  35935.933  17087.0  148074.654         417"
      ]
     },
     "execution_count": 12,
     "metadata": {},
     "output_type": "execute_result"
    }
   ],
   "source": [
    "df_grupo = df.groupby(['uf']).agg({'populacao': [np.sum, np.mean, np.median, np.std], 'cidade': 'nunique'}).round(3).reset_index()\n",
    "\n",
    "df_grupo.columns = ['uf', 'pop', 'media', 'mediana', 'std', 'qtd_cidade']\n",
    "\n",
    "df_grupo.head()"
   ]
  },
  {
   "cell_type": "code",
   "execution_count": 13,
   "metadata": {},
   "outputs": [
    {
     "data": {
      "text/html": [
       "<div>\n",
       "<style scoped>\n",
       "    .dataframe tbody tr th:only-of-type {\n",
       "        vertical-align: middle;\n",
       "    }\n",
       "\n",
       "    .dataframe tbody tr th {\n",
       "        vertical-align: top;\n",
       "    }\n",
       "\n",
       "    .dataframe thead th {\n",
       "        text-align: right;\n",
       "    }\n",
       "</style>\n",
       "<table border=\"1\" class=\"dataframe\">\n",
       "  <thead>\n",
       "    <tr style=\"text-align: right;\">\n",
       "      <th></th>\n",
       "      <th>uf</th>\n",
       "      <th>pop</th>\n",
       "      <th>media</th>\n",
       "      <th>mediana</th>\n",
       "      <th>std</th>\n",
       "      <th>qtd_cidade</th>\n",
       "    </tr>\n",
       "  </thead>\n",
       "  <tbody>\n",
       "    <tr>\n",
       "      <th>0</th>\n",
       "      <td>Acre</td>\n",
       "      <td>906876</td>\n",
       "      <td>41221.636</td>\n",
       "      <td>19685.0</td>\n",
       "      <td>86435.715</td>\n",
       "      <td>22</td>\n",
       "    </tr>\n",
       "    <tr>\n",
       "      <th>1</th>\n",
       "      <td>Alagoas</td>\n",
       "      <td>3365351</td>\n",
       "      <td>32993.637</td>\n",
       "      <td>17599.5</td>\n",
       "      <td>103384.097</td>\n",
       "      <td>102</td>\n",
       "    </tr>\n",
       "    <tr>\n",
       "      <th>2</th>\n",
       "      <td>Amapá</td>\n",
       "      <td>877613</td>\n",
       "      <td>54850.812</td>\n",
       "      <td>17098.5</td>\n",
       "      <td>128116.914</td>\n",
       "      <td>16</td>\n",
       "    </tr>\n",
       "    <tr>\n",
       "      <th>3</th>\n",
       "      <td>Amazonas</td>\n",
       "      <td>4269995</td>\n",
       "      <td>68870.887</td>\n",
       "      <td>26504.5</td>\n",
       "      <td>283285.104</td>\n",
       "      <td>62</td>\n",
       "    </tr>\n",
       "    <tr>\n",
       "      <th>4</th>\n",
       "      <td>Bahia</td>\n",
       "      <td>14985284</td>\n",
       "      <td>35935.933</td>\n",
       "      <td>17087.0</td>\n",
       "      <td>148074.654</td>\n",
       "      <td>417</td>\n",
       "    </tr>\n",
       "    <tr>\n",
       "      <th>5</th>\n",
       "      <td>Ceará</td>\n",
       "      <td>9240580</td>\n",
       "      <td>50220.543</td>\n",
       "      <td>22327.5</td>\n",
       "      <td>201483.694</td>\n",
       "      <td>184</td>\n",
       "    </tr>\n",
       "    <tr>\n",
       "      <th>6</th>\n",
       "      <td>DistritoFederal</td>\n",
       "      <td>3094325</td>\n",
       "      <td>3094325.000</td>\n",
       "      <td>3094325.0</td>\n",
       "      <td>NaN</td>\n",
       "      <td>1</td>\n",
       "    </tr>\n",
       "    <tr>\n",
       "      <th>7</th>\n",
       "      <td>EspíritoSanto</td>\n",
       "      <td>4108508</td>\n",
       "      <td>52673.179</td>\n",
       "      <td>20588.0</td>\n",
       "      <td>101670.813</td>\n",
       "      <td>78</td>\n",
       "    </tr>\n",
       "    <tr>\n",
       "      <th>8</th>\n",
       "      <td>Goiás</td>\n",
       "      <td>7206589</td>\n",
       "      <td>29295.077</td>\n",
       "      <td>7646.5</td>\n",
       "      <td>112666.575</td>\n",
       "      <td>246</td>\n",
       "    </tr>\n",
       "    <tr>\n",
       "      <th>9</th>\n",
       "      <td>Maranhão</td>\n",
       "      <td>7153262</td>\n",
       "      <td>32964.341</td>\n",
       "      <td>18746.0</td>\n",
       "      <td>80379.191</td>\n",
       "      <td>217</td>\n",
       "    </tr>\n",
       "    <tr>\n",
       "      <th>10</th>\n",
       "      <td>MatoGrosso</td>\n",
       "      <td>3567234</td>\n",
       "      <td>25299.532</td>\n",
       "      <td>11124.0</td>\n",
       "      <td>62435.206</td>\n",
       "      <td>141</td>\n",
       "    </tr>\n",
       "    <tr>\n",
       "      <th>11</th>\n",
       "      <td>MatoGrossodoSul</td>\n",
       "      <td>2839188</td>\n",
       "      <td>35939.089</td>\n",
       "      <td>16025.0</td>\n",
       "      <td>105291.976</td>\n",
       "      <td>79</td>\n",
       "    </tr>\n",
       "    <tr>\n",
       "      <th>12</th>\n",
       "      <td>MinasGerais</td>\n",
       "      <td>21411923</td>\n",
       "      <td>25101.903</td>\n",
       "      <td>8288.0</td>\n",
       "      <td>101705.176</td>\n",
       "      <td>853</td>\n",
       "    </tr>\n",
       "    <tr>\n",
       "      <th>13</th>\n",
       "      <td>Paraná</td>\n",
       "      <td>11597484</td>\n",
       "      <td>29066.376</td>\n",
       "      <td>9573.0</td>\n",
       "      <td>111365.126</td>\n",
       "      <td>399</td>\n",
       "    </tr>\n",
       "    <tr>\n",
       "      <th>14</th>\n",
       "      <td>Paraíba</td>\n",
       "      <td>4059905</td>\n",
       "      <td>18205.852</td>\n",
       "      <td>7274.0</td>\n",
       "      <td>62792.392</td>\n",
       "      <td>223</td>\n",
       "    </tr>\n",
       "    <tr>\n",
       "      <th>15</th>\n",
       "      <td>Pará</td>\n",
       "      <td>8777124</td>\n",
       "      <td>60952.250</td>\n",
       "      <td>32335.5</td>\n",
       "      <td>136777.227</td>\n",
       "      <td>144</td>\n",
       "    </tr>\n",
       "    <tr>\n",
       "      <th>16</th>\n",
       "      <td>Pernambuco</td>\n",
       "      <td>9674793</td>\n",
       "      <td>52296.178</td>\n",
       "      <td>23002.0</td>\n",
       "      <td>140839.310</td>\n",
       "      <td>185</td>\n",
       "    </tr>\n",
       "    <tr>\n",
       "      <th>17</th>\n",
       "      <td>Piauí</td>\n",
       "      <td>3289290</td>\n",
       "      <td>14684.330</td>\n",
       "      <td>6255.0</td>\n",
       "      <td>59307.303</td>\n",
       "      <td>224</td>\n",
       "    </tr>\n",
       "    <tr>\n",
       "      <th>18</th>\n",
       "      <td>RioGrandedoNorte</td>\n",
       "      <td>3560903</td>\n",
       "      <td>21322.772</td>\n",
       "      <td>8297.0</td>\n",
       "      <td>75948.636</td>\n",
       "      <td>167</td>\n",
       "    </tr>\n",
       "    <tr>\n",
       "      <th>19</th>\n",
       "      <td>RioGrandedoSul</td>\n",
       "      <td>11466630</td>\n",
       "      <td>23071.690</td>\n",
       "      <td>5573.0</td>\n",
       "      <td>81360.271</td>\n",
       "      <td>497</td>\n",
       "    </tr>\n",
       "    <tr>\n",
       "      <th>20</th>\n",
       "      <td>RiodeJaneiro</td>\n",
       "      <td>17463349</td>\n",
       "      <td>189819.011</td>\n",
       "      <td>37284.0</td>\n",
       "      <td>720536.169</td>\n",
       "      <td>92</td>\n",
       "    </tr>\n",
       "    <tr>\n",
       "      <th>21</th>\n",
       "      <td>Rondônia</td>\n",
       "      <td>1815278</td>\n",
       "      <td>34909.192</td>\n",
       "      <td>14802.0</td>\n",
       "      <td>77891.693</td>\n",
       "      <td>52</td>\n",
       "    </tr>\n",
       "    <tr>\n",
       "      <th>22</th>\n",
       "      <td>Roraima</td>\n",
       "      <td>652713</td>\n",
       "      <td>43514.200</td>\n",
       "      <td>13561.0</td>\n",
       "      <td>108914.487</td>\n",
       "      <td>15</td>\n",
       "    </tr>\n",
       "    <tr>\n",
       "      <th>23</th>\n",
       "      <td>SantaCatarina</td>\n",
       "      <td>7338473</td>\n",
       "      <td>24876.180</td>\n",
       "      <td>8054.0</td>\n",
       "      <td>60746.342</td>\n",
       "      <td>295</td>\n",
       "    </tr>\n",
       "    <tr>\n",
       "      <th>24</th>\n",
       "      <td>Sergipe</td>\n",
       "      <td>2338474</td>\n",
       "      <td>31179.653</td>\n",
       "      <td>14650.0</td>\n",
       "      <td>80158.769</td>\n",
       "      <td>75</td>\n",
       "    </tr>\n",
       "    <tr>\n",
       "      <th>25</th>\n",
       "      <td>SãoPaulo</td>\n",
       "      <td>46649132</td>\n",
       "      <td>72324.236</td>\n",
       "      <td>14297.0</td>\n",
       "      <td>501440.247</td>\n",
       "      <td>645</td>\n",
       "    </tr>\n",
       "    <tr>\n",
       "      <th>26</th>\n",
       "      <td>Tocantins</td>\n",
       "      <td>1607363</td>\n",
       "      <td>11563.763</td>\n",
       "      <td>5136.0</td>\n",
       "      <td>31680.684</td>\n",
       "      <td>139</td>\n",
       "    </tr>\n",
       "  </tbody>\n",
       "</table>\n",
       "</div>"
      ],
      "text/plain": [
       "                  uf       pop        media    mediana         std  qtd_cidade\n",
       "0               Acre    906876    41221.636    19685.0   86435.715          22\n",
       "1            Alagoas   3365351    32993.637    17599.5  103384.097         102\n",
       "2              Amapá    877613    54850.812    17098.5  128116.914          16\n",
       "3           Amazonas   4269995    68870.887    26504.5  283285.104          62\n",
       "4              Bahia  14985284    35935.933    17087.0  148074.654         417\n",
       "5              Ceará   9240580    50220.543    22327.5  201483.694         184\n",
       "6    DistritoFederal   3094325  3094325.000  3094325.0         NaN           1\n",
       "7      EspíritoSanto   4108508    52673.179    20588.0  101670.813          78\n",
       "8              Goiás   7206589    29295.077     7646.5  112666.575         246\n",
       "9           Maranhão   7153262    32964.341    18746.0   80379.191         217\n",
       "10        MatoGrosso   3567234    25299.532    11124.0   62435.206         141\n",
       "11   MatoGrossodoSul   2839188    35939.089    16025.0  105291.976          79\n",
       "12       MinasGerais  21411923    25101.903     8288.0  101705.176         853\n",
       "13            Paraná  11597484    29066.376     9573.0  111365.126         399\n",
       "14           Paraíba   4059905    18205.852     7274.0   62792.392         223\n",
       "15              Pará   8777124    60952.250    32335.5  136777.227         144\n",
       "16        Pernambuco   9674793    52296.178    23002.0  140839.310         185\n",
       "17             Piauí   3289290    14684.330     6255.0   59307.303         224\n",
       "18  RioGrandedoNorte   3560903    21322.772     8297.0   75948.636         167\n",
       "19    RioGrandedoSul  11466630    23071.690     5573.0   81360.271         497\n",
       "20      RiodeJaneiro  17463349   189819.011    37284.0  720536.169          92\n",
       "21          Rondônia   1815278    34909.192    14802.0   77891.693          52\n",
       "22           Roraima    652713    43514.200    13561.0  108914.487          15\n",
       "23     SantaCatarina   7338473    24876.180     8054.0   60746.342         295\n",
       "24           Sergipe   2338474    31179.653    14650.0   80158.769          75\n",
       "25          SãoPaulo  46649132    72324.236    14297.0  501440.247         645\n",
       "26         Tocantins   1607363    11563.763     5136.0   31680.684         139"
      ]
     },
     "execution_count": 13,
     "metadata": {},
     "output_type": "execute_result"
    }
   ],
   "source": [
    "df_grupo.head(27)"
   ]
  },
  {
   "cell_type": "code",
   "execution_count": 15,
   "metadata": {
    "colab": {
     "base_uri": "https://localhost:8080/",
     "height": 388
    },
    "id": "FaL5s5_iKVPI",
    "outputId": "b533853f-46e1-4e1b-d6a9-c03a0035142f"
   },
   "outputs": [
    {
     "data": {
      "image/png": "[encoded data removed]",
      "text/plain": [
       "<Figure size 1296x432 with 1 Axes>"
      ]
     },
     "metadata": {
      "needs_background": "light"
     },
     "output_type": "display_data"
    }
   ],
   "source": [
    "ax = sns.scatterplot(\n",
    "    data = df_grupo[ df_grupo['uf'] != 'DistritoFederal'],\n",
    "    x = 'media',\n",
    "    y = 'mediana',\n",
    "    size = 'qtd_cidade'\n",
    ")\n",
    "\n",
    "ax.figure.set_size_inches(18,6)"
   ]
  },
  {
   "cell_type": "code",
   "execution_count": 16,
   "metadata": {
    "colab": {
     "base_uri": "https://localhost:8080/",
     "height": 388
    },
    "id": "zhvPBUDMMWFd",
    "outputId": "190f8fc5-927b-4aa6-cf93-6e4e54778755"
   },
   "outputs": [
    {
     "data": {
      "image/png": "[encoded data removed]",
      "text/plain": [
       "<Figure size 1296x432 with 1 Axes>"
      ]
     },
     "metadata": {
      "needs_background": "light"
     },
     "output_type": "display_data"
    }
   ],
   "source": [
    "ax = sns.scatterplot(\n",
    "    data = df_grupo[ df_grupo['uf'] != 'DistritoFederal'],\n",
    "    x = 'media',\n",
    "    y = 'mediana',\n",
    "    hue = 'std'\n",
    ")\n",
    "\n",
    "ax.figure.set_size_inches(18,6)"
   ]
  },
  {
   "cell_type": "code",
   "execution_count": null,
   "metadata": {
    "colab": {
     "base_uri": "https://localhost:8080/"
    },
    "id": "b2jP0mHbOAnm",
    "outputId": "e77a9438-fbd7-4dc7-e0e8-0ffc739fe6e7"
   },
   "outputs": [],
   "source": [
    "df['uf'].unique()"
   ]
  },
  {
   "cell_type": "code",
   "execution_count": 17,
   "metadata": {
    "colab": {
     "base_uri": "https://localhost:8080/",
     "height": 204
    },
    "id": "WJwBb5yGOvNP",
    "outputId": "05a391f5-c8a3-412b-8c06-5239e33120dc"
   },
   "outputs": [
    {
     "data": {
      "text/html": [
       "<div>\n",
       "<style scoped>\n",
       "    .dataframe tbody tr th:only-of-type {\n",
       "        vertical-align: middle;\n",
       "    }\n",
       "\n",
       "    .dataframe tbody tr th {\n",
       "        vertical-align: top;\n",
       "    }\n",
       "\n",
       "    .dataframe thead th {\n",
       "        text-align: right;\n",
       "    }\n",
       "</style>\n",
       "<table border=\"1\" class=\"dataframe\">\n",
       "  <thead>\n",
       "    <tr style=\"text-align: right;\">\n",
       "      <th></th>\n",
       "      <th>uf</th>\n",
       "      <th>regiao</th>\n",
       "    </tr>\n",
       "  </thead>\n",
       "  <tbody>\n",
       "    <tr>\n",
       "      <th>0</th>\n",
       "      <td>SãoPaulo</td>\n",
       "      <td>Suldeste</td>\n",
       "    </tr>\n",
       "    <tr>\n",
       "      <th>1</th>\n",
       "      <td>RiodeJaneiro</td>\n",
       "      <td>Suldeste</td>\n",
       "    </tr>\n",
       "    <tr>\n",
       "      <th>2</th>\n",
       "      <td>DistritoFederal</td>\n",
       "      <td>Centro-Oeste</td>\n",
       "    </tr>\n",
       "    <tr>\n",
       "      <th>3</th>\n",
       "      <td>Bahia</td>\n",
       "      <td>Nordeste</td>\n",
       "    </tr>\n",
       "    <tr>\n",
       "      <th>4</th>\n",
       "      <td>Ceará</td>\n",
       "      <td>Nordeste</td>\n",
       "    </tr>\n",
       "  </tbody>\n",
       "</table>\n",
       "</div>"
      ],
      "text/plain": [
       "                uf        regiao\n",
       "0         SãoPaulo      Suldeste\n",
       "1     RiodeJaneiro      Suldeste\n",
       "2  DistritoFederal  Centro-Oeste\n",
       "3            Bahia      Nordeste\n",
       "4            Ceará      Nordeste"
      ]
     },
     "execution_count": 17,
     "metadata": {},
     "output_type": "execute_result"
    }
   ],
   "source": [
    "df_regiao = pd.DataFrame({\n",
    "    'uf': ['SãoPaulo', 'RiodeJaneiro', 'DistritoFederal', 'Bahia', 'Ceará',\n",
    "           'MinasGerais', 'Amazonas', 'Paraná', 'Pernambuco', 'Goiás', 'Pará',\n",
    "           'RioGrandedoSul', 'Maranhão', 'Alagoas', 'MatoGrossodoSul',\n",
    "           'RioGrandedoNorte', 'Piauí', 'Paraíba', 'Sergipe', 'MatoGrosso',\n",
    "           'SantaCatarina', 'Rondônia', 'EspíritoSanto', 'Amapá', 'Roraima',\n",
    "           'Acre', 'Tocantins'],\n",
    "    \n",
    "    'regiao': ['Suldeste', 'Suldeste', 'Centro-Oeste', 'Nordeste', 'Nordeste',\n",
    "            'Suldeste', 'Norte', 'Sul', 'Nordeste', 'Centro-Oeste', 'Norte',\n",
    "            'Sul', 'Nordeste', 'Nordeste', 'Centro-Oeste',\n",
    "            'Nordeste', 'Nordeste', 'Nordeste', 'Nordeste', 'Centro-Oeste',\n",
    "            'Sul', 'Norte', 'Suldeste', 'Norte', 'Norte',\n",
    "            'Norte', 'Norte']\n",
    "})\n",
    "\n",
    "df_regiao.head()"
   ]
  },
  {
   "cell_type": "code",
   "execution_count": 18,
   "metadata": {
    "id": "6LXhQpeaQlDo"
   },
   "outputs": [
    {
     "data": {
      "text/html": [
       "<div>\n",
       "<style scoped>\n",
       "    .dataframe tbody tr th:only-of-type {\n",
       "        vertical-align: middle;\n",
       "    }\n",
       "\n",
       "    .dataframe tbody tr th {\n",
       "        vertical-align: top;\n",
       "    }\n",
       "\n",
       "    .dataframe thead th {\n",
       "        text-align: right;\n",
       "    }\n",
       "</style>\n",
       "<table border=\"1\" class=\"dataframe\">\n",
       "  <thead>\n",
       "    <tr style=\"text-align: right;\">\n",
       "      <th></th>\n",
       "      <th>uf</th>\n",
       "      <th>pop</th>\n",
       "      <th>media</th>\n",
       "      <th>mediana</th>\n",
       "      <th>std</th>\n",
       "      <th>qtd_cidade</th>\n",
       "      <th>regiao</th>\n",
       "    </tr>\n",
       "  </thead>\n",
       "  <tbody>\n",
       "    <tr>\n",
       "      <th>0</th>\n",
       "      <td>Acre</td>\n",
       "      <td>906876</td>\n",
       "      <td>41221.636</td>\n",
       "      <td>19685.0</td>\n",
       "      <td>86435.715</td>\n",
       "      <td>22</td>\n",
       "      <td>Norte</td>\n",
       "    </tr>\n",
       "    <tr>\n",
       "      <th>1</th>\n",
       "      <td>Alagoas</td>\n",
       "      <td>3365351</td>\n",
       "      <td>32993.637</td>\n",
       "      <td>17599.5</td>\n",
       "      <td>103384.097</td>\n",
       "      <td>102</td>\n",
       "      <td>Nordeste</td>\n",
       "    </tr>\n",
       "    <tr>\n",
       "      <th>2</th>\n",
       "      <td>Amapá</td>\n",
       "      <td>877613</td>\n",
       "      <td>54850.812</td>\n",
       "      <td>17098.5</td>\n",
       "      <td>128116.914</td>\n",
       "      <td>16</td>\n",
       "      <td>Norte</td>\n",
       "    </tr>\n",
       "    <tr>\n",
       "      <th>3</th>\n",
       "      <td>Amazonas</td>\n",
       "      <td>4269995</td>\n",
       "      <td>68870.887</td>\n",
       "      <td>26504.5</td>\n",
       "      <td>283285.104</td>\n",
       "      <td>62</td>\n",
       "      <td>Norte</td>\n",
       "    </tr>\n",
       "    <tr>\n",
       "      <th>4</th>\n",
       "      <td>Bahia</td>\n",
       "      <td>14985284</td>\n",
       "      <td>35935.933</td>\n",
       "      <td>17087.0</td>\n",
       "      <td>148074.654</td>\n",
       "      <td>417</td>\n",
       "      <td>Nordeste</td>\n",
       "    </tr>\n",
       "  </tbody>\n",
       "</table>\n",
       "</div>"
      ],
      "text/plain": [
       "         uf       pop      media  mediana         std  qtd_cidade    regiao\n",
       "0      Acre    906876  41221.636  19685.0   86435.715          22     Norte\n",
       "1   Alagoas   3365351  32993.637  17599.5  103384.097         102  Nordeste\n",
       "2     Amapá    877613  54850.812  17098.5  128116.914          16     Norte\n",
       "3  Amazonas   4269995  68870.887  26504.5  283285.104          62     Norte\n",
       "4     Bahia  14985284  35935.933  17087.0  148074.654         417  Nordeste"
      ]
     },
     "execution_count": 18,
     "metadata": {},
     "output_type": "execute_result"
    }
   ],
   "source": [
    "df_grupo = pd.merge(\n",
    "    df_grupo, \n",
    "    df_regiao, \n",
    "    how = 'left', \n",
    "    on = 'uf'\n",
    ")\n",
    "\n",
    "df_grupo.head()"
   ]
  },
  {
   "cell_type": "code",
   "execution_count": 21,
   "metadata": {
    "colab": {
     "base_uri": "https://localhost:8080/",
     "height": 428
    },
    "id": "vSWPtPz_QzkM",
    "outputId": "1a2acd1e-54ba-4e2f-9293-1c866efc528e"
   },
   "outputs": [
    {
     "data": {
      "image/png": "[encoded data removed]",
      "text/plain": [
       "<Figure size 1296x432 with 5 Axes>"
      ]
     },
     "metadata": {
      "needs_background": "light"
     },
     "output_type": "display_data"
    }
   ],
   "source": [
    "ax = sns.relplot(\n",
    "    data = df_grupo[ df_grupo['uf'] != 'DistritoFederal'],\n",
    "    x = 'media'\n",
    "    , y = 'mediana'\n",
    "    , col = 'regiao'\n",
    "    , kind=\"scatter\"\n",
    ")\n",
    "\n",
    "ax.figure.set_size_inches(18,6)"
   ]
  },
  {
   "cell_type": "code",
   "execution_count": 22,
   "metadata": {
    "colab": {
     "base_uri": "https://localhost:8080/",
     "height": 431
    },
    "id": "WUC4LGChRa7i",
    "outputId": "c76ba424-f9b1-413e-c165-3c0b2889b206"
   },
   "outputs": [
    {
     "data": {
      "image/png": "[encoded data removed]",
      "text/plain": [
       "<Figure size 1296x432 with 1 Axes>"
      ]
     },
     "metadata": {
      "needs_background": "light"
     },
     "output_type": "display_data"
    }
   ],
   "source": [
    "ax = sns.relplot(\n",
    "    data = df_grupo[ df_grupo['uf'] != 'DistritoFederal'],\n",
    "    x = 'media'\n",
    "    , y = 'mediana'\n",
    "    , kind=\"scatter\"\n",
    "    , hue = 'regiao'\n",
    "    , style=\"regiao\"\n",
    ")\n",
    "\n",
    "ax.figure.set_size_inches(18,6)"
   ]
  },
  {
   "cell_type": "code",
   "execution_count": null,
   "metadata": {
    "id": "Cr9_iUGaSa8s"
   },
   "outputs": [],
   "source": []
  }
 ],
 "metadata": {
  "colab": {
   "collapsed_sections": [],
   "name": "Untitled1.ipynb",
   "provenance": []
  },
  "kernelspec": {
   "display_name": "analise_dados",
   "language": "python",
   "name": "analise_dados"
  },
  "language_info": {
   "codemirror_mode": {
    "name": "ipython",
    "version": 3
   },
   "file_extension": ".py",
   "mimetype": "text/x-python",
   "name": "python",
   "nbconvert_exporter": "python",
   "pygments_lexer": "ipython3",
   "version": "3.9.6"
  }
 },
 "nbformat": 4,
 "nbformat_minor": 1
}
