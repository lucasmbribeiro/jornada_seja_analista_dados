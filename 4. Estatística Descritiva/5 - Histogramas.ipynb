{
 "cells": [
  {
   "cell_type": "code",
   "execution_count": 2,
   "metadata": {
    "id": "9rfOIS0CjGc2"
   },
   "outputs": [],
   "source": [
    "import pandas as pd\n",
    "import seaborn as sns\n",
    "import matplotlib.pyplot as plt"
   ]
  },
  {
   "cell_type": "code",
   "execution_count": 3,
   "metadata": {
    "colab": {
     "base_uri": "https://localhost:8080/",
     "height": 444
    },
    "id": "8rWjZ5mOgJ9q",
    "outputId": "c5de8634-9aac-4396-eb4f-83b7aa8d6368"
   },
   "outputs": [
    {
     "data": {
      "text/html": [
       "<div>\n",
       "<style scoped>\n",
       "    .dataframe tbody tr th:only-of-type {\n",
       "        vertical-align: middle;\n",
       "    }\n",
       "\n",
       "    .dataframe tbody tr th {\n",
       "        vertical-align: top;\n",
       "    }\n",
       "\n",
       "    .dataframe thead th {\n",
       "        text-align: right;\n",
       "    }\n",
       "</style>\n",
       "<table border=\"1\" class=\"dataframe\">\n",
       "  <thead>\n",
       "    <tr style=\"text-align: right;\">\n",
       "      <th></th>\n",
       "      <th>ride_id</th>\n",
       "      <th>rideable_type</th>\n",
       "      <th>started_at</th>\n",
       "      <th>ended_at</th>\n",
       "      <th>start_station_name</th>\n",
       "      <th>start_station_id</th>\n",
       "      <th>end_station_name</th>\n",
       "      <th>end_station_id</th>\n",
       "      <th>start_lat</th>\n",
       "      <th>start_lng</th>\n",
       "      <th>end_lat</th>\n",
       "      <th>end_lng</th>\n",
       "      <th>member_casual</th>\n",
       "      <th>tempo_corrida</th>\n",
       "    </tr>\n",
       "  </thead>\n",
       "  <tbody>\n",
       "    <tr>\n",
       "      <th>0</th>\n",
       "      <td>DE8FDF918B766B34</td>\n",
       "      <td>classic_bike</td>\n",
       "      <td>2021-12-22 18:44:12</td>\n",
       "      <td>2021-12-22 18:49:56</td>\n",
       "      <td>Marin Light Rail</td>\n",
       "      <td>JC013</td>\n",
       "      <td>Warren St</td>\n",
       "      <td>JC006</td>\n",
       "      <td>40.714584</td>\n",
       "      <td>-74.042817</td>\n",
       "      <td>40.721124</td>\n",
       "      <td>-74.038051</td>\n",
       "      <td>member</td>\n",
       "      <td>5.73</td>\n",
       "    </tr>\n",
       "    <tr>\n",
       "      <th>1</th>\n",
       "      <td>DFFA588D5D188F27</td>\n",
       "      <td>classic_bike</td>\n",
       "      <td>2021-12-11 12:32:58</td>\n",
       "      <td>2021-12-11 12:57:13</td>\n",
       "      <td>Warren St</td>\n",
       "      <td>JC006</td>\n",
       "      <td>Warren St</td>\n",
       "      <td>JC006</td>\n",
       "      <td>40.721124</td>\n",
       "      <td>-74.038051</td>\n",
       "      <td>40.721124</td>\n",
       "      <td>-74.038051</td>\n",
       "      <td>member</td>\n",
       "      <td>24.25</td>\n",
       "    </tr>\n",
       "    <tr>\n",
       "      <th>2</th>\n",
       "      <td>3A2A9CA5E1CC449A</td>\n",
       "      <td>classic_bike</td>\n",
       "      <td>2021-12-18 11:08:40</td>\n",
       "      <td>2021-12-18 11:21:10</td>\n",
       "      <td>Warren St</td>\n",
       "      <td>JC006</td>\n",
       "      <td>Warren St</td>\n",
       "      <td>JC006</td>\n",
       "      <td>40.721124</td>\n",
       "      <td>-74.038051</td>\n",
       "      <td>40.721124</td>\n",
       "      <td>-74.038051</td>\n",
       "      <td>member</td>\n",
       "      <td>12.50</td>\n",
       "    </tr>\n",
       "    <tr>\n",
       "      <th>3</th>\n",
       "      <td>72216E8C562A4E02</td>\n",
       "      <td>classic_bike</td>\n",
       "      <td>2021-12-11 17:28:08</td>\n",
       "      <td>2021-12-11 17:42:16</td>\n",
       "      <td>5 Corners Library</td>\n",
       "      <td>JC018</td>\n",
       "      <td>Warren St</td>\n",
       "      <td>JC006</td>\n",
       "      <td>40.734961</td>\n",
       "      <td>-74.059503</td>\n",
       "      <td>40.721124</td>\n",
       "      <td>-74.038051</td>\n",
       "      <td>member</td>\n",
       "      <td>14.13</td>\n",
       "    </tr>\n",
       "    <tr>\n",
       "      <th>4</th>\n",
       "      <td>A7B30B3C966FD8A1</td>\n",
       "      <td>classic_bike</td>\n",
       "      <td>2021-12-11 10:39:41</td>\n",
       "      <td>2021-12-11 10:54:56</td>\n",
       "      <td>City Hall - Washington St &amp; 1 St</td>\n",
       "      <td>HB105</td>\n",
       "      <td>Warren St</td>\n",
       "      <td>JC006</td>\n",
       "      <td>40.737360</td>\n",
       "      <td>-74.030970</td>\n",
       "      <td>40.721124</td>\n",
       "      <td>-74.038051</td>\n",
       "      <td>casual</td>\n",
       "      <td>15.25</td>\n",
       "    </tr>\n",
       "  </tbody>\n",
       "</table>\n",
       "</div>"
      ],
      "text/plain": [
       "            ride_id rideable_type          started_at            ended_at  \\\n",
       "0  DE8FDF918B766B34  classic_bike 2021-12-22 18:44:12 2021-12-22 18:49:56   \n",
       "1  DFFA588D5D188F27  classic_bike 2021-12-11 12:32:58 2021-12-11 12:57:13   \n",
       "2  3A2A9CA5E1CC449A  classic_bike 2021-12-18 11:08:40 2021-12-18 11:21:10   \n",
       "3  72216E8C562A4E02  classic_bike 2021-12-11 17:28:08 2021-12-11 17:42:16   \n",
       "4  A7B30B3C966FD8A1  classic_bike 2021-12-11 10:39:41 2021-12-11 10:54:56   \n",
       "\n",
       "                 start_station_name start_station_id end_station_name  \\\n",
       "0                  Marin Light Rail            JC013        Warren St   \n",
       "1                         Warren St            JC006        Warren St   \n",
       "2                         Warren St            JC006        Warren St   \n",
       "3                 5 Corners Library            JC018        Warren St   \n",
       "4  City Hall - Washington St & 1 St            HB105        Warren St   \n",
       "\n",
       "  end_station_id  start_lat  start_lng    end_lat    end_lng member_casual  \\\n",
       "0          JC006  40.714584 -74.042817  40.721124 -74.038051        member   \n",
       "1          JC006  40.721124 -74.038051  40.721124 -74.038051        member   \n",
       "2          JC006  40.721124 -74.038051  40.721124 -74.038051        member   \n",
       "3          JC006  40.734961 -74.059503  40.721124 -74.038051        member   \n",
       "4          JC006  40.737360 -74.030970  40.721124 -74.038051        casual   \n",
       "\n",
       "   tempo_corrida  \n",
       "0           5.73  \n",
       "1          24.25  \n",
       "2          12.50  \n",
       "3          14.13  \n",
       "4          15.25  "
      ]
     },
     "execution_count": 3,
     "metadata": {},
     "output_type": "execute_result"
    }
   ],
   "source": [
    "df = pd.read_csv('JC-202112-citibike-tripdata.csv')\n",
    "\n",
    "df['ended_at'] = df['ended_at'].astype('datetime64[ns]') \n",
    "df['started_at'] = df['started_at'].astype('datetime64[ns]') \n",
    "\n",
    "df['tempo_corrida'] = ((df['ended_at'] - df['started_at']).dt.total_seconds() / 60).round(2)\n",
    "\n",
    "df.head()"
   ]
  },
  {
   "cell_type": "code",
   "execution_count": 6,
   "metadata": {
    "colab": {
     "base_uri": "https://localhost:8080/"
    },
    "id": "mbI2TgcLkxh0",
    "outputId": "9c929e74-ed1b-469a-8d39-b067339fc961"
   },
   "outputs": [
    {
     "data": {
      "text/plain": [
       "count    48021.00\n",
       "mean        19.21\n",
       "std        115.48\n",
       "min          0.00\n",
       "25%          4.47\n",
       "50%          6.93\n",
       "75%         10.97\n",
       "max       5894.17\n",
       "Name: tempo_corrida, dtype: float64"
      ]
     },
     "execution_count": 6,
     "metadata": {},
     "output_type": "execute_result"
    }
   ],
   "source": [
    "df['tempo_corrida'].describe().round(2)"
   ]
  },
  {
   "cell_type": "code",
   "execution_count": 7,
   "metadata": {
    "colab": {
     "base_uri": "https://localhost:8080/",
     "height": 388
    },
    "id": "kEOmRp1ChrWk",
    "outputId": "ac89b525-6b85-4026-d33c-15d3c97cc38b"
   },
   "outputs": [
    {
     "data": {
      "text/plain": [
       "<AxesSubplot:xlabel='tempo_corrida', ylabel='Count'>"
      ]
     },
     "execution_count": 7,
     "metadata": {},
     "output_type": "execute_result"
    },
    {
     "data": {
      "image/png": "[encoded data removed]",
      "text/plain": [
       "<Figure size 864x360 with 2 Axes>"
      ]
     },
     "metadata": {
      "needs_background": "light"
     },
     "output_type": "display_data"
    }
   ],
   "source": [
    "fig, ax = plt.subplots(nrows = 1, ncols= 2, figsize = (12,5)) \n",
    "\n",
    "fig.suptitle('DISTRIBUIÇÃO DO TEMPO DAS CORRIDAS')\n",
    "\n",
    "sns.boxplot( data = df, x = 'tempo_corrida', ax = ax[0] )\n",
    "sns.histplot( data = df, x = 'tempo_corrida', ax = ax[1] )"
   ]
  },
  {
   "cell_type": "code",
   "execution_count": 8,
   "metadata": {
    "colab": {
     "base_uri": "https://localhost:8080/"
    },
    "id": "RxM5ScjglWsF",
    "outputId": "65c33a3c-5bcd-4d08-8d4f-3a9ee3533c9d"
   },
   "outputs": [
    {
     "data": {
      "text/plain": [
       "5.13      107\n",
       "4.55      107\n",
       "4.98      106\n",
       "4.37      102\n",
       "4.75      101\n",
       "         ... \n",
       "428.55      1\n",
       "49.27       1\n",
       "198.67      1\n",
       "379.40      1\n",
       "844.78      1\n",
       "Name: tempo_corrida, Length: 3510, dtype: int64"
      ]
     },
     "execution_count": 8,
     "metadata": {},
     "output_type": "execute_result"
    }
   ],
   "source": [
    "df['tempo_corrida'].value_counts()"
   ]
  },
  {
   "cell_type": "code",
   "execution_count": 9,
   "metadata": {
    "colab": {
     "base_uri": "https://localhost:8080/"
    },
    "id": "inrdvvxJoPcN",
    "outputId": "2bb94b1d-6659-4a4e-c6d8-c209574fd664"
   },
   "outputs": [
    {
     "data": {
      "text/plain": [
       "count    48021.000000\n",
       "mean        19.210203\n",
       "std        115.482571\n",
       "min          0.000000\n",
       "25%          4.470000\n",
       "50%          6.930000\n",
       "75%         10.970000\n",
       "max       5894.170000\n",
       "Name: tempo_corrida, dtype: float64"
      ]
     },
     "execution_count": 9,
     "metadata": {},
     "output_type": "execute_result"
    }
   ],
   "source": [
    "df['tempo_corrida'].describe()"
   ]
  },
  {
   "cell_type": "code",
   "execution_count": 10,
   "metadata": {
    "colab": {
     "base_uri": "https://localhost:8080/"
    },
    "id": "0q9tDieBo7lh",
    "outputId": "c9432b56-26d7-427a-c21a-a539b4fbf16e"
   },
   "outputs": [
    {
     "name": "stdout",
     "output_type": "stream",
     "text": [
      "IQR: 6.500000000000001\n",
      "Limite Superior: 20.54\n"
     ]
    }
   ],
   "source": [
    "iqr = 10.97 - 4.47\n",
    "lim_s = 10.79 + ( 1.5 * iqr )\n",
    "\n",
    "print(\"IQR:\", iqr)\n",
    "print(\"Limite Superior:\", lim_s)"
   ]
  },
  {
   "cell_type": "code",
   "execution_count": 11,
   "metadata": {
    "colab": {
     "base_uri": "https://localhost:8080/",
     "height": 333
    },
    "id": "g7BAwr3FprPK",
    "outputId": "91bd1b0a-5bda-4f2b-e4a4-a7f2ef9dc046"
   },
   "outputs": [
    {
     "data": {
      "text/plain": [
       "<AxesSubplot:xlabel='tempo_corrida', ylabel='Count'>"
      ]
     },
     "execution_count": 11,
     "metadata": {},
     "output_type": "execute_result"
    },
    {
     "data": {
      "image/png": "[encoded data removed]",
      "text/plain": [
       "<Figure size 1728x360 with 4 Axes>"
      ]
     },
     "metadata": {
      "needs_background": "light"
     },
     "output_type": "display_data"
    }
   ],
   "source": [
    "fig, ax = plt.subplots(nrows = 1, ncols= 4, figsize = (24,5)) \n",
    "\n",
    "# fig.suptitle('DISTRIBUIÇÃO DO TEMPO DAS CORRIDAS')\n",
    "\n",
    "sns.histplot( data = df, x = 'tempo_corrida', ax = ax[0] )\n",
    "\n",
    "sns.histplot( data = df[ df['tempo_corrida'] <= 20.54 ], x = 'tempo_corrida', ax = ax[1] )\n",
    "\n",
    "sns.histplot( data = df[ df['tempo_corrida'] <= 60 ], x = 'tempo_corrida', ax = ax[2] )\n",
    "\n",
    "sns.histplot( data = df[ df['tempo_corrida'] > 60 ], x = 'tempo_corrida', ax = ax[3] )"
   ]
  },
  {
   "cell_type": "code",
   "execution_count": 12,
   "metadata": {
    "colab": {
     "base_uri": "https://localhost:8080/",
     "height": 333
    },
    "id": "XVrq1gbcqIm6",
    "outputId": "3142d737-d8b6-414a-a2df-f3740f078653"
   },
   "outputs": [
    {
     "data": {
      "text/plain": [
       "<AxesSubplot:xlabel='tempo_corrida', ylabel='Count'>"
      ]
     },
     "execution_count": 12,
     "metadata": {},
     "output_type": "execute_result"
    },
    {
     "data": {
      "image/png": "[encoded data removed]",
      "text/plain": [
       "<Figure size 1728x360 with 4 Axes>"
      ]
     },
     "metadata": {
      "needs_background": "light"
     },
     "output_type": "display_data"
    }
   ],
   "source": [
    "fig, ax = plt.subplots(nrows = 1, ncols= 4, figsize = (24,5)) \n",
    "\n",
    "# fig.suptitle('DISTRIBUIÇÃO DO TEMPO DAS CORRIDAS')\n",
    "\n",
    "sns.histplot( data = df[ df['tempo_corrida'] <= 20.54 ], x = 'tempo_corrida', ax = ax[0] )\n",
    "\n",
    "sns.histplot( data = df[ (df['tempo_corrida'] >= 20.54) & (df['tempo_corrida'] <= 60) ], x = 'tempo_corrida', ax = ax[1] )\n",
    "\n",
    "sns.histplot( data = df[ df['tempo_corrida'] <= 60 ], x = 'tempo_corrida', ax = ax[2] )\n",
    "\n",
    "sns.histplot( data = df[ df['tempo_corrida'] > 60 ], x = 'tempo_corrida', ax = ax[3] )"
   ]
  },
  {
   "cell_type": "code",
   "execution_count": 13,
   "metadata": {
    "colab": {
     "base_uri": "https://localhost:8080/"
    },
    "id": "h6fzQBbJrTXN",
    "outputId": "578d1780-86fd-4fba-d399-fdcd727884aa"
   },
   "outputs": [
    {
     "data": {
      "text/plain": [
       "count    48021.000000\n",
       "mean        19.210203\n",
       "std        115.482571\n",
       "min          0.000000\n",
       "25%          4.470000\n",
       "50%          6.930000\n",
       "75%         10.970000\n",
       "max       5894.170000\n",
       "Name: tempo_corrida, dtype: float64"
      ]
     },
     "execution_count": 13,
     "metadata": {},
     "output_type": "execute_result"
    }
   ],
   "source": [
    "df['tempo_corrida'].describe()"
   ]
  },
  {
   "cell_type": "code",
   "execution_count": 18,
   "metadata": {
    "colab": {
     "base_uri": "https://localhost:8080/",
     "height": 514
    },
    "id": "qZOnr-ZprzQN",
    "outputId": "b2348f37-7bfa-4f50-f616-5fb71e8ed6cc"
   },
   "outputs": [
    {
     "data": {
      "text/plain": [
       "<AxesSubplot:xlabel='Tempo das Corridas', ylabel='Contagem'>"
      ]
     },
     "execution_count": 18,
     "metadata": {},
     "output_type": "execute_result"
    },
    {
     "data": {
      "image/png": "[encoded data removed]",
      "text/plain": [
       "<Figure size 1440x576 with 1 Axes>"
      ]
     },
     "metadata": {
      "needs_background": "light"
     },
     "output_type": "display_data"
    }
   ],
   "source": [
    "ax = sns.histplot(\n",
    "    data = df[ df['tempo_corrida'] <= 60 ],\n",
    "    x = 'tempo_corrida'\n",
    ")\n",
    "\n",
    "ax.figure.set_size_inches(20,8)\n",
    "\n",
    "ax.set_xlabel(\"Tempo das Corridas\")\n",
    "ax.set_ylabel(\"Contagem\")\n",
    "\n",
    "\n",
    "plt.axvline(x = 4.47, ymin = 0, ymax = 1750, color = 'red')\n",
    "plt.axvline(x = 10.97, ymin = 0, ymax = 1750, color = 'red')\n",
    "plt.axvline(x = 20.54, ymin = 0, ymax = 1750, color = 'red', linestyle = ':')\n",
    "ax"
   ]
  },
  {
   "cell_type": "code",
   "execution_count": null,
   "metadata": {
    "id": "c5k_5UyLsF8u"
   },
   "outputs": [],
   "source": []
  }
 ],
 "metadata": {
  "colab": {
   "name": "Histogramas.ipynb",
   "provenance": []
  },
  "kernelspec": {
   "display_name": "analise_dados",
   "language": "python",
   "name": "analise_dados"
  },
  "language_info": {
   "codemirror_mode": {
    "name": "ipython",
    "version": 3
   },
   "file_extension": ".py",
   "mimetype": "text/x-python",
   "name": "python",
   "nbconvert_exporter": "python",
   "pygments_lexer": "ipython3",
   "version": "3.9.6"
  }
 },
 "nbformat": 4,
 "nbformat_minor": 1
}
